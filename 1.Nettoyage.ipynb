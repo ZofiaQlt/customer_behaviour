{
 "cells": [
  {
   "cell_type": "markdown",
   "id": "d87ac577",
   "metadata": {
    "canvas": {
     "comments": [],
     "componentType": "CodeCell",
     "copiedOriginId": null,
     "diskcache": false,
     "headerColor": "none",
     "id": "db2cbfe9-611d-45c6-9a1e-0ee4a8ab9293",
     "isComponent": false,
     "name": "",
     "parents": []
    },
    "tags": []
   },
   "source": [
    "<img src=\"img/logo.png\">"
   ]
  },
  {
   "cell_type": "markdown",
   "id": "0eba6a53",
   "metadata": {
    "canvas": {
     "comments": [],
     "componentType": "CodeCell",
     "copiedOriginId": null,
     "diskcache": false,
     "headerColor": "none",
     "id": "6d9c365a-5f99-4f93-adc2-a2df55759937",
     "isComponent": false,
     "name": "",
     "parents": []
    }
   },
   "source": [
    "# Chargement des librairies"
   ]
  },
  {
   "cell_type": "code",
   "execution_count": 1,
   "id": "68920839",
   "metadata": {
    "canvas": {
     "comments": [],
     "componentType": "CodeCell",
     "copiedOriginId": null,
     "diskcache": false,
     "headerColor": "none",
     "id": "6a644699-f1ae-4d3e-86f3-e66d66345930",
     "isComponent": false,
     "name": "",
     "parents": []
    }
   },
   "outputs": [
    {
     "name": "stdout",
     "output_type": "stream",
     "text": [
      "Version numpy : 1.23.5\n",
      "Version pandas : 1.4.4\n"
     ]
    }
   ],
   "source": [
    "import numpy as np\n",
    "import pandas as pd\n",
    "import matplotlib.pyplot as plt\n",
    "from mylib.fonction_exploration import exploration\n",
    "from mylib.fonction_pk import test_pk\n",
    "from mylib.fonction_merge import df_merge\n",
    "import warnings\n",
    "warnings.filterwarnings('ignore')\n",
    "import scipy.stats as stats\n",
    "import seaborn as sns\n",
    "from pandas_profiling import ProfileReport\n",
    "\n",
    "print(\"Version numpy : \" + np.__version__)\n",
    "print(\"Version pandas : \" + pd.__version__)\n",
    "\n",
    "bold = \"\\033[1m\"\n",
    "red = \"\\033[31m\"\n",
    "end = \"\\033[0;0m\"\n",
    "\n",
    "chemin_cust = 'src/customers.csv'\n",
    "chemin_prod = 'src/products.csv'\n",
    "chemin_tran = 'src/transactions.csv'"
   ]
  },
  {
   "cell_type": "markdown",
   "id": "1d8ba424",
   "metadata": {
    "canvas": {
     "comments": [],
     "componentType": "CodeCell",
     "copiedOriginId": null,
     "diskcache": false,
     "headerColor": "none",
     "id": "99affac3-f873-4523-b3ba-514abc384966",
     "isComponent": false,
     "name": "",
     "parents": []
    }
   },
   "source": [
    "# Chargement des fichiers"
   ]
  },
  {
   "cell_type": "code",
   "execution_count": 2,
   "id": "50e8450c",
   "metadata": {
    "canvas": {
     "comments": [],
     "componentType": "CodeCell",
     "copiedOriginId": null,
     "diskcache": false,
     "headerColor": "none",
     "id": "a545ba5b-7e49-4b56-8eae-ee6c04938724",
     "isComponent": false,
     "name": "",
     "parents": []
    }
   },
   "outputs": [],
   "source": [
    "customers = pd.read_csv(chemin_cust)\n",
    "products = pd.read_csv(chemin_prod)\n",
    "transactions = pd.read_csv(chemin_tran)"
   ]
  },
  {
   "cell_type": "markdown",
   "id": "ffb9d0d2",
   "metadata": {
    "canvas": {
     "comments": [],
     "componentType": "CodeCell",
     "copiedOriginId": null,
     "diskcache": false,
     "headerColor": "none",
     "id": "d9175e7c-460d-4620-ae25-6f0f80b06176",
     "isComponent": false,
     "name": "",
     "parents": []
    }
   },
   "source": [
    "# **Customers**"
   ]
  },
  {
   "cell_type": "markdown",
   "id": "cbf72d26",
   "metadata": {
    "canvas": {
     "comments": [],
     "componentType": "CodeCell",
     "copiedOriginId": null,
     "diskcache": false,
     "headerColor": "none",
     "id": "5e2febca-8469-4db1-9e05-18bdc0e5984d",
     "isComponent": false,
     "name": "",
     "parents": []
    }
   },
   "source": [
    "## Vérification de l'unicité d'écriture des \"client_id\""
   ]
  },
  {
   "cell_type": "code",
   "execution_count": 3,
   "id": "018db363",
   "metadata": {
    "canvas": {
     "comments": [],
     "componentType": "CodeCell",
     "copiedOriginId": null,
     "diskcache": false,
     "headerColor": "none",
     "id": "3108d634-54e6-4fb1-a7ed-a6d4653cb863",
     "isComponent": false,
     "name": "",
     "parents": []
    }
   },
   "outputs": [
    {
     "name": "stdout",
     "output_type": "stream",
     "text": [
      "\u001b[1m\u001b[31m\n",
      "Avant nettoyage, le fichier contient 2 erreurs d'unicité d'écriture :\u001b[0;0m\n"
     ]
    },
    {
     "data": {
      "text/html": [
       "<div>\n",
       "<style scoped>\n",
       "    .dataframe tbody tr th:only-of-type {\n",
       "        vertical-align: middle;\n",
       "    }\n",
       "\n",
       "    .dataframe tbody tr th {\n",
       "        vertical-align: top;\n",
       "    }\n",
       "\n",
       "    .dataframe thead th {\n",
       "        text-align: right;\n",
       "    }\n",
       "</style>\n",
       "<table border=\"1\" class=\"dataframe\">\n",
       "  <thead>\n",
       "    <tr style=\"text-align: right;\">\n",
       "      <th></th>\n",
       "      <th>client_id</th>\n",
       "      <th>sex</th>\n",
       "      <th>birth</th>\n",
       "    </tr>\n",
       "  </thead>\n",
       "  <tbody>\n",
       "    <tr>\n",
       "      <th>2735</th>\n",
       "      <td>ct_0</td>\n",
       "      <td>f</td>\n",
       "      <td>2001</td>\n",
       "    </tr>\n",
       "    <tr>\n",
       "      <th>8494</th>\n",
       "      <td>ct_1</td>\n",
       "      <td>m</td>\n",
       "      <td>2001</td>\n",
       "    </tr>\n",
       "  </tbody>\n",
       "</table>\n",
       "</div>"
      ],
      "text/plain": [
       "     client_id sex  birth\n",
       "2735      ct_0   f   2001\n",
       "8494      ct_1   m   2001"
      ]
     },
     "execution_count": 3,
     "metadata": {},
     "output_type": "execute_result"
    }
   ],
   "source": [
    "before = customers[customers['client_id'].str.contains(\"c_\") == False]\n",
    "print(bold + red + f\"\\nAvant nettoyage, le fichier contient {len(before)} erreurs d'unicité d'écriture :\" + end)\n",
    "before"
   ]
  },
  {
   "cell_type": "code",
   "execution_count": 4,
   "id": "17537abc",
   "metadata": {
    "canvas": {
     "comments": [],
     "componentType": "CodeCell",
     "copiedOriginId": null,
     "diskcache": false,
     "headerColor": "none",
     "id": "2a865706-b68c-4c24-8abf-e33ce6c17569",
     "isComponent": false,
     "name": "",
     "parents": []
    }
   },
   "outputs": [
    {
     "name": "stdout",
     "output_type": "stream",
     "text": [
      "\u001b[1m\u001b[31m\n",
      "Après nettoyage, le fichier contient 0 erreurs d'unicité d'écriture :\u001b[0;0m\n"
     ]
    },
    {
     "data": {
      "text/html": [
       "<div>\n",
       "<style scoped>\n",
       "    .dataframe tbody tr th:only-of-type {\n",
       "        vertical-align: middle;\n",
       "    }\n",
       "\n",
       "    .dataframe tbody tr th {\n",
       "        vertical-align: top;\n",
       "    }\n",
       "\n",
       "    .dataframe thead th {\n",
       "        text-align: right;\n",
       "    }\n",
       "</style>\n",
       "<table border=\"1\" class=\"dataframe\">\n",
       "  <thead>\n",
       "    <tr style=\"text-align: right;\">\n",
       "      <th></th>\n",
       "      <th>client_id</th>\n",
       "      <th>sex</th>\n",
       "      <th>birth</th>\n",
       "    </tr>\n",
       "  </thead>\n",
       "  <tbody>\n",
       "  </tbody>\n",
       "</table>\n",
       "</div>"
      ],
      "text/plain": [
       "Empty DataFrame\n",
       "Columns: [client_id, sex, birth]\n",
       "Index: []"
      ]
     },
     "execution_count": 4,
     "metadata": {},
     "output_type": "execute_result"
    }
   ],
   "source": [
    "# après analyse du fichier \"transactions\" dans la section 5.1 on peut voir que \n",
    "# ct_0 et ct_1 correspondent aux clients test, non pertinents pour l'analyse\n",
    "# donc suppression de ct_0 et ct_1\n",
    "\n",
    "customers = customers.drop(index=[2735, 8494])\n",
    "after = customers[customers['client_id'].str.contains(\"c_\") == False]\n",
    "print(bold + red + f\"\\nAprès nettoyage, le fichier contient {len(after)} erreurs d'unicité d'écriture :\" + end)\n",
    "after"
   ]
  },
  {
   "cell_type": "markdown",
   "id": "a47cbceb",
   "metadata": {
    "canvas": {
     "comments": [],
     "componentType": "CodeCell",
     "copiedOriginId": null,
     "diskcache": false,
     "headerColor": "none",
     "id": "d322396e-3408-415b-8d76-0da9b1b2df6e",
     "isComponent": false,
     "name": "",
     "parents": []
    }
   },
   "source": [
    "## Vérification des outliers"
   ]
  },
  {
   "cell_type": "code",
   "execution_count": 5,
   "id": "55abee32",
   "metadata": {
    "canvas": {
     "comments": [],
     "componentType": "CodeCell",
     "copiedOriginId": null,
     "diskcache": false,
     "headerColor": "none",
     "id": "6c630472-12e3-4ace-93e7-82db62b575d8",
     "isComponent": false,
     "name": "",
     "parents": []
    }
   },
   "outputs": [
    {
     "name": "stdout",
     "output_type": "stream",
     "text": [
      "\u001b[1m\u001b[31m\n",
      "0 produits sont concernés par un z-score > 1,96\u001b[0;0m\n",
      "\u001b[1m\u001b[31mIl n'y a donc pas d'outliers\n"
     ]
    }
   ],
   "source": [
    "z = stats.zscore(customers[\"birth\"])\n",
    "outlier_customers = customers[z > 1.96]\n",
    "nb_outlier_z = len(outlier_customers)\n",
    "print(bold + red + f\"\\n{nb_outlier_z} produits sont concernés par un z-score > 1,96\" + end)\n",
    "print(bold + red + \"Il n'y a donc pas d'outliers\")"
   ]
  },
  {
   "cell_type": "markdown",
   "id": "0936302f",
   "metadata": {
    "canvas": {
     "comments": [],
     "componentType": "CodeCell",
     "copiedOriginId": null,
     "diskcache": false,
     "headerColor": "none",
     "id": "fe1f3d67-6d1b-43b9-a10d-865f62f7b190",
     "isComponent": false,
     "name": "",
     "parents": []
    }
   },
   "source": [
    "## Distribution des valeurs"
   ]
  },
  {
   "cell_type": "code",
   "execution_count": 6,
   "id": "4d5f1d44",
   "metadata": {
    "canvas": {
     "comments": [],
     "componentType": "CodeCell",
     "copiedOriginId": null,
     "diskcache": false,
     "headerColor": "none",
     "id": "df4e2ff6-9d83-4383-81bf-16c44ce7a5a6",
     "isComponent": false,
     "name": "",
     "parents": []
    }
   },
   "outputs": [
    {
     "data": {
      "text/plain": [
       "<AxesSubplot: >"
      ]
     },
     "execution_count": 6,
     "metadata": {},
     "output_type": "execute_result"
    },
    {
     "data": {
      "image/png": "[encoded data removed]",
      "text/plain": [
       "<Figure size 640x480 with 1 Axes>"
      ]
     },
     "metadata": {},
     "output_type": "display_data"
    }
   ],
   "source": [
    "sns.boxplot(data=customers)"
   ]
  },
  {
   "cell_type": "code",
   "execution_count": 7,
   "id": "450a28a6",
   "metadata": {
    "canvas": {
     "comments": [],
     "componentType": "CodeCell",
     "copiedOriginId": null,
     "diskcache": false,
     "headerColor": "none",
     "id": "1667b9a3-7d5f-4d6b-abae-9c270c2a0494",
     "isComponent": false,
     "name": "",
     "parents": []
    }
   },
   "outputs": [
    {
     "data": {
      "text/plain": [
       "<seaborn.axisgrid.PairGrid at 0x7fdb25050f70>"
      ]
     },
     "execution_count": 7,
     "metadata": {},
     "output_type": "execute_result"
    },
    {
     "data": {
      "image/png": "[encoded data removed]",
      "text/plain": [
       "<Figure size 250x250 with 2 Axes>"
      ]
     },
     "metadata": {},
     "output_type": "display_data"
    }
   ],
   "source": [
    "sns.pairplot(customers)"
   ]
  },
  {
   "cell_type": "markdown",
   "id": "4b2d3081",
   "metadata": {
    "canvas": {
     "comments": [],
     "componentType": "CodeCell",
     "copiedOriginId": null,
     "diskcache": false,
     "headerColor": "none",
     "id": "65048354-9ec9-4218-a2f5-993ba50d4fe5",
     "isComponent": false,
     "name": "",
     "parents": []
    }
   },
   "source": [
    "## Au vue des futures jointures vérification de la clé primaire"
   ]
  },
  {
   "cell_type": "code",
   "execution_count": 8,
   "id": "6a7c1a7c",
   "metadata": {
    "canvas": {
     "comments": [],
     "componentType": "CodeCell",
     "copiedOriginId": null,
     "diskcache": false,
     "headerColor": "none",
     "id": "c71ede6d-4e07-4b7d-9279-1d57ee544a39",
     "isComponent": false,
     "name": "",
     "parents": []
    }
   },
   "outputs": [
    {
     "name": "stdout",
     "output_type": "stream",
     "text": [
      "La clé est unique\n"
     ]
    }
   ],
   "source": [
    "test_pk(customers, 'client_id')"
   ]
  },
  {
   "cell_type": "markdown",
   "id": "02aec55b",
   "metadata": {
    "canvas": {
     "comments": [],
     "componentType": "CodeCell",
     "copiedOriginId": null,
     "diskcache": false,
     "headerColor": "none",
     "id": "01fbd087-cc69-4b2d-b5d1-bb19064b7cc6",
     "isComponent": false,
     "name": "",
     "parents": []
    }
   },
   "source": [
    "# **Products**"
   ]
  },
  {
   "cell_type": "markdown",
   "id": "59384678",
   "metadata": {
    "canvas": {
     "comments": [],
     "componentType": "CodeCell",
     "copiedOriginId": null,
     "diskcache": false,
     "headerColor": "none",
     "id": "2c672ee5-2412-4318-9851-b29de1ca1d8d",
     "isComponent": false,
     "name": "",
     "parents": []
    }
   },
   "source": [
    "## Vérification de l'unicité d'écriture des \"id_prod\""
   ]
  },
  {
   "cell_type": "code",
   "execution_count": 9,
   "id": "196b0db1",
   "metadata": {
    "canvas": {
     "comments": [],
     "componentType": "CodeCell",
     "copiedOriginId": null,
     "diskcache": false,
     "headerColor": "none",
     "id": "69fc2435-6dce-4223-b6aa-1aeddd3c07d9",
     "isComponent": false,
     "name": "",
     "parents": []
    }
   },
   "outputs": [
    {
     "name": "stdout",
     "output_type": "stream",
     "text": [
      "\u001b[1m\u001b[31m\n",
      "Avant nettoyage, le fichier contient 1 erreur d'unicité d'écriture :\u001b[0;0m\n"
     ]
    },
    {
     "data": {
      "text/html": [
       "<div>\n",
       "<style scoped>\n",
       "    .dataframe tbody tr th:only-of-type {\n",
       "        vertical-align: middle;\n",
       "    }\n",
       "\n",
       "    .dataframe tbody tr th {\n",
       "        vertical-align: top;\n",
       "    }\n",
       "\n",
       "    .dataframe thead th {\n",
       "        text-align: right;\n",
       "    }\n",
       "</style>\n",
       "<table border=\"1\" class=\"dataframe\">\n",
       "  <thead>\n",
       "    <tr style=\"text-align: right;\">\n",
       "      <th></th>\n",
       "      <th>id_prod</th>\n",
       "      <th>price</th>\n",
       "      <th>categ</th>\n",
       "    </tr>\n",
       "  </thead>\n",
       "  <tbody>\n",
       "    <tr>\n",
       "      <th>731</th>\n",
       "      <td>T_0</td>\n",
       "      <td>-1.0</td>\n",
       "      <td>0</td>\n",
       "    </tr>\n",
       "  </tbody>\n",
       "</table>\n",
       "</div>"
      ],
      "text/plain": [
       "    id_prod  price  categ\n",
       "731     T_0   -1.0      0"
      ]
     },
     "execution_count": 9,
     "metadata": {},
     "output_type": "execute_result"
    }
   ],
   "source": [
    "# après analyse de la table \"transactions\" dans la section 5.1 on peut voir la \n",
    "# présence d'un produit test référencé 'T_0', vérification de sa présence dans \n",
    "# la table \"products\"\n",
    "\n",
    "before = products[products['id_prod'].str.contains(\"T_0\")]\n",
    "print(bold + red + f\"\\nAvant nettoyage, le fichier contient {len(before)} erreur d'unicité d'écriture :\" + end)\n",
    "before"
   ]
  },
  {
   "cell_type": "code",
   "execution_count": 10,
   "id": "a8f19e2a",
   "metadata": {
    "canvas": {
     "comments": [],
     "componentType": "CodeCell",
     "copiedOriginId": null,
     "diskcache": false,
     "headerColor": "none",
     "id": "9d3d2388-8fdc-4a58-8944-8a3cc5df42e1",
     "isComponent": false,
     "name": "",
     "parents": []
    }
   },
   "outputs": [
    {
     "name": "stdout",
     "output_type": "stream",
     "text": [
      "\u001b[1m\u001b[31m\n",
      "Après nettoyage, le fichier contient 0 erreur d'unicité d'écriture :\u001b[0;0m\n"
     ]
    },
    {
     "data": {
      "text/html": [
       "<div>\n",
       "<style scoped>\n",
       "    .dataframe tbody tr th:only-of-type {\n",
       "        vertical-align: middle;\n",
       "    }\n",
       "\n",
       "    .dataframe tbody tr th {\n",
       "        vertical-align: top;\n",
       "    }\n",
       "\n",
       "    .dataframe thead th {\n",
       "        text-align: right;\n",
       "    }\n",
       "</style>\n",
       "<table border=\"1\" class=\"dataframe\">\n",
       "  <thead>\n",
       "    <tr style=\"text-align: right;\">\n",
       "      <th></th>\n",
       "      <th>id_prod</th>\n",
       "      <th>price</th>\n",
       "      <th>categ</th>\n",
       "    </tr>\n",
       "  </thead>\n",
       "  <tbody>\n",
       "  </tbody>\n",
       "</table>\n",
       "</div>"
      ],
      "text/plain": [
       "Empty DataFrame\n",
       "Columns: [id_prod, price, categ]\n",
       "Index: []"
      ]
     },
     "execution_count": 10,
     "metadata": {},
     "output_type": "execute_result"
    }
   ],
   "source": [
    "# T_0 correspondant au produit test, de plus avec un prix négatif, \n",
    "# il n'est pas pertinent pour l'analyse\n",
    "# donc suppression de T_0\n",
    "\n",
    "products = products.drop(index=731)\n",
    "after = products[products['id_prod'].str.contains(\"T_O\")]\n",
    "print(bold + red + f\"\\nAprès nettoyage, le fichier contient {len(after)} erreur d'unicité d'écriture :\" + end)\n",
    "after"
   ]
  },
  {
   "cell_type": "markdown",
   "id": "8138d610",
   "metadata": {
    "canvas": {
     "comments": [],
     "componentType": "CodeCell",
     "copiedOriginId": null,
     "diskcache": false,
     "headerColor": "none",
     "id": "cdfded96-3a40-4abb-8e4e-38a9856c793f",
     "isComponent": false,
     "name": "",
     "parents": []
    }
   },
   "source": [
    "## Vérification des outliers"
   ]
  },
  {
   "cell_type": "code",
   "execution_count": 11,
   "id": "12e1a2be",
   "metadata": {
    "canvas": {
     "comments": [],
     "componentType": "CodeCell",
     "copiedOriginId": null,
     "diskcache": false,
     "headerColor": "none",
     "id": "b1a37ce2-b88b-411a-8302-5a4675137c9d",
     "isComponent": false,
     "name": "",
     "parents": []
    }
   },
   "outputs": [
    {
     "name": "stdout",
     "output_type": "stream",
     "text": [
      "\u001b[1m\u001b[31m\n",
      "162 produits sont concernés par un z-score > 1,96 :\u001b[0;0m\n"
     ]
    },
    {
     "data": {
      "text/html": [
       "<div>\n",
       "<style scoped>\n",
       "    .dataframe tbody tr th:only-of-type {\n",
       "        vertical-align: middle;\n",
       "    }\n",
       "\n",
       "    .dataframe tbody tr th {\n",
       "        vertical-align: top;\n",
       "    }\n",
       "\n",
       "    .dataframe thead th {\n",
       "        text-align: right;\n",
       "    }\n",
       "</style>\n",
       "<table border=\"1\" class=\"dataframe\">\n",
       "  <thead>\n",
       "    <tr style=\"text-align: right;\">\n",
       "      <th></th>\n",
       "      <th>id_prod</th>\n",
       "      <th>price</th>\n",
       "      <th>categ</th>\n",
       "    </tr>\n",
       "  </thead>\n",
       "  <tbody>\n",
       "    <tr>\n",
       "      <th>1814</th>\n",
       "      <td>2_229</td>\n",
       "      <td>80.99</td>\n",
       "      <td>2</td>\n",
       "    </tr>\n",
       "    <tr>\n",
       "      <th>1076</th>\n",
       "      <td>2_197</td>\n",
       "      <td>80.99</td>\n",
       "      <td>2</td>\n",
       "    </tr>\n",
       "    <tr>\n",
       "      <th>824</th>\n",
       "      <td>1_13</td>\n",
       "      <td>80.99</td>\n",
       "      <td>1</td>\n",
       "    </tr>\n",
       "    <tr>\n",
       "      <th>1243</th>\n",
       "      <td>2_149</td>\n",
       "      <td>80.99</td>\n",
       "      <td>2</td>\n",
       "    </tr>\n",
       "    <tr>\n",
       "      <th>1890</th>\n",
       "      <td>2_234</td>\n",
       "      <td>81.19</td>\n",
       "      <td>2</td>\n",
       "    </tr>\n",
       "    <tr>\n",
       "      <th>...</th>\n",
       "      <td>...</td>\n",
       "      <td>...</td>\n",
       "      <td>...</td>\n",
       "    </tr>\n",
       "    <tr>\n",
       "      <th>2779</th>\n",
       "      <td>2_30</td>\n",
       "      <td>233.54</td>\n",
       "      <td>2</td>\n",
       "    </tr>\n",
       "    <tr>\n",
       "      <th>1436</th>\n",
       "      <td>2_167</td>\n",
       "      <td>236.99</td>\n",
       "      <td>2</td>\n",
       "    </tr>\n",
       "    <tr>\n",
       "      <th>394</th>\n",
       "      <td>2_158</td>\n",
       "      <td>247.22</td>\n",
       "      <td>2</td>\n",
       "    </tr>\n",
       "    <tr>\n",
       "      <th>724</th>\n",
       "      <td>2_76</td>\n",
       "      <td>254.44</td>\n",
       "      <td>2</td>\n",
       "    </tr>\n",
       "    <tr>\n",
       "      <th>947</th>\n",
       "      <td>2_2</td>\n",
       "      <td>300.00</td>\n",
       "      <td>2</td>\n",
       "    </tr>\n",
       "  </tbody>\n",
       "</table>\n",
       "<p>162 rows × 3 columns</p>\n",
       "</div>"
      ],
      "text/plain": [
       "     id_prod   price  categ\n",
       "1814   2_229   80.99      2\n",
       "1076   2_197   80.99      2\n",
       "824     1_13   80.99      1\n",
       "1243   2_149   80.99      2\n",
       "1890   2_234   81.19      2\n",
       "...      ...     ...    ...\n",
       "2779    2_30  233.54      2\n",
       "1436   2_167  236.99      2\n",
       "394    2_158  247.22      2\n",
       "724     2_76  254.44      2\n",
       "947      2_2  300.00      2\n",
       "\n",
       "[162 rows x 3 columns]"
      ]
     },
     "execution_count": 11,
     "metadata": {},
     "output_type": "execute_result"
    }
   ],
   "source": [
    "products.sort_values(by='price', inplace=True)\n",
    "z = stats.zscore(products[\"price\"])\n",
    "outlier_z = products[z > 1.96]\n",
    "nb_outlier_z = len(outlier_z)\n",
    "print(bold + red + f\"\\n{nb_outlier_z} produits sont concernés par un z-score > 1,96 :\" + end)\n",
    "outlier_z"
   ]
  },
  {
   "cell_type": "markdown",
   "id": "c52ad184",
   "metadata": {
    "canvas": {
     "comments": [],
     "componentType": "CodeCell",
     "copiedOriginId": null,
     "diskcache": false,
     "headerColor": "none",
     "id": "518188ed-0d16-4416-9a59-62bb663934f8",
     "isComponent": false,
     "name": "",
     "parents": []
    }
   },
   "source": [
    "## Distribution des valeurs"
   ]
  },
  {
   "cell_type": "code",
   "execution_count": 12,
   "id": "0dc2a6e4",
   "metadata": {
    "canvas": {
     "comments": [],
     "componentType": "CodeCell",
     "copiedOriginId": null,
     "diskcache": false,
     "headerColor": "none",
     "id": "273493e9-e3c1-4b1c-9bab-326ea8581eb2",
     "isComponent": false,
     "name": "",
     "parents": []
    }
   },
   "outputs": [
    {
     "data": {
      "text/plain": [
       "<AxesSubplot: xlabel='categ', ylabel='price'>"
      ]
     },
     "execution_count": 12,
     "metadata": {},
     "output_type": "execute_result"
    },
    {
     "data": {
      "image/png": "[encoded data removed]",
      "text/plain": [
       "<Figure size 640x480 with 1 Axes>"
      ]
     },
     "metadata": {},
     "output_type": "display_data"
    }
   ],
   "source": [
    "sns.boxplot(x='categ', y='price', data=products)"
   ]
  },
  {
   "cell_type": "code",
   "execution_count": 13,
   "id": "2d2dde13",
   "metadata": {
    "canvas": {
     "comments": [],
     "componentType": "CodeCell",
     "copiedOriginId": null,
     "diskcache": false,
     "headerColor": "none",
     "id": "894cdbc4-2e38-48e3-ae58-c11e96b839cc",
     "isComponent": false,
     "name": "",
     "parents": []
    }
   },
   "outputs": [
    {
     "data": {
      "text/plain": [
       "<seaborn.axisgrid.PairGrid at 0x7fdb25aa2a60>"
      ]
     },
     "execution_count": 13,
     "metadata": {},
     "output_type": "execute_result"
    },
    {
     "data": {
      "image/png": "[encoded data removed]",
      "text/plain": [
       "<Figure size 500x500 with 6 Axes>"
      ]
     },
     "metadata": {},
     "output_type": "display_data"
    }
   ],
   "source": [
    "sns.pairplot(products)"
   ]
  },
  {
   "cell_type": "markdown",
   "id": "979dc056",
   "metadata": {
    "canvas": {
     "comments": [],
     "componentType": "CodeCell",
     "copiedOriginId": null,
     "diskcache": false,
     "headerColor": "none",
     "id": "2125e1fe-27f2-4c44-8469-63c6977a9fde",
     "isComponent": false,
     "name": "",
     "parents": []
    }
   },
   "source": [
    "## Au vue des futures jointures vérification de la clé primaire"
   ]
  },
  {
   "cell_type": "code",
   "execution_count": 14,
   "id": "41d2d1c9",
   "metadata": {
    "canvas": {
     "comments": [],
     "componentType": "CodeCell",
     "copiedOriginId": null,
     "diskcache": false,
     "headerColor": "none",
     "id": "80b05a6d-336f-4fc3-8668-57379eca564d",
     "isComponent": false,
     "name": "",
     "parents": []
    }
   },
   "outputs": [
    {
     "name": "stdout",
     "output_type": "stream",
     "text": [
      "La clé est unique\n"
     ]
    }
   ],
   "source": [
    "test_pk(products, 'id_prod')"
   ]
  },
  {
   "cell_type": "markdown",
   "id": "b392ed3e",
   "metadata": {
    "canvas": {
     "comments": [],
     "componentType": "CodeCell",
     "copiedOriginId": null,
     "diskcache": false,
     "headerColor": "none",
     "id": "d2c8befb-89c9-4398-95b8-f85a40134d6a",
     "isComponent": false,
     "name": "",
     "parents": []
    }
   },
   "source": [
    "# **Transactions**"
   ]
  },
  {
   "cell_type": "markdown",
   "id": "659de198",
   "metadata": {
    "canvas": {
     "comments": [],
     "componentType": "CodeCell",
     "copiedOriginId": null,
     "diskcache": false,
     "headerColor": "none",
     "id": "58c9c5ca-8a78-42ad-84f0-5dba09e9ed59",
     "isComponent": false,
     "name": "",
     "parents": []
    }
   },
   "source": [
    "## Affichage des doublons"
   ]
  },
  {
   "cell_type": "code",
   "execution_count": 15,
   "id": "f8bb44d0",
   "metadata": {
    "canvas": {
     "comments": [],
     "componentType": "CodeCell",
     "copiedOriginId": null,
     "diskcache": false,
     "headerColor": "none",
     "id": "e28c7b4d-508c-447f-9e03-60289ec8a0ed",
     "isComponent": false,
     "name": "",
     "parents": []
    }
   },
   "outputs": [
    {
     "name": "stdout",
     "output_type": "stream",
     "text": [
      "\u001b[1m\u001b[31m\n",
      "Au départ, le fichier contient les 126 doublons suivants :\u001b[0;0m\n"
     ]
    },
    {
     "data": {
      "text/html": [
       "<div>\n",
       "<style scoped>\n",
       "    .dataframe tbody tr th:only-of-type {\n",
       "        vertical-align: middle;\n",
       "    }\n",
       "\n",
       "    .dataframe tbody tr th {\n",
       "        vertical-align: top;\n",
       "    }\n",
       "\n",
       "    .dataframe thead th {\n",
       "        text-align: right;\n",
       "    }\n",
       "</style>\n",
       "<table border=\"1\" class=\"dataframe\">\n",
       "  <thead>\n",
       "    <tr style=\"text-align: right;\">\n",
       "      <th></th>\n",
       "      <th>id_prod</th>\n",
       "      <th>date</th>\n",
       "      <th>session_id</th>\n",
       "      <th>client_id</th>\n",
       "    </tr>\n",
       "  </thead>\n",
       "  <tbody>\n",
       "    <tr>\n",
       "      <th>27778</th>\n",
       "      <td>T_0</td>\n",
       "      <td>test_2021-03-01 02:30:02.237437</td>\n",
       "      <td>s_0</td>\n",
       "      <td>ct_1</td>\n",
       "    </tr>\n",
       "    <tr>\n",
       "      <th>52424</th>\n",
       "      <td>T_0</td>\n",
       "      <td>test_2021-03-01 02:30:02.237419</td>\n",
       "      <td>s_0</td>\n",
       "      <td>ct_0</td>\n",
       "    </tr>\n",
       "    <tr>\n",
       "      <th>96687</th>\n",
       "      <td>T_0</td>\n",
       "      <td>test_2021-03-01 02:30:02.237412</td>\n",
       "      <td>s_0</td>\n",
       "      <td>ct_1</td>\n",
       "    </tr>\n",
       "    <tr>\n",
       "      <th>130188</th>\n",
       "      <td>T_0</td>\n",
       "      <td>test_2021-03-01 02:30:02.237419</td>\n",
       "      <td>s_0</td>\n",
       "      <td>ct_0</td>\n",
       "    </tr>\n",
       "    <tr>\n",
       "      <th>139339</th>\n",
       "      <td>T_0</td>\n",
       "      <td>test_2021-03-01 02:30:02.237443</td>\n",
       "      <td>s_0</td>\n",
       "      <td>ct_1</td>\n",
       "    </tr>\n",
       "    <tr>\n",
       "      <th>...</th>\n",
       "      <td>...</td>\n",
       "      <td>...</td>\n",
       "      <td>...</td>\n",
       "      <td>...</td>\n",
       "    </tr>\n",
       "    <tr>\n",
       "      <th>653098</th>\n",
       "      <td>T_0</td>\n",
       "      <td>test_2021-03-01 02:30:02.237432</td>\n",
       "      <td>s_0</td>\n",
       "      <td>ct_0</td>\n",
       "    </tr>\n",
       "    <tr>\n",
       "      <th>657830</th>\n",
       "      <td>T_0</td>\n",
       "      <td>test_2021-03-01 02:30:02.237417</td>\n",
       "      <td>s_0</td>\n",
       "      <td>ct_0</td>\n",
       "    </tr>\n",
       "    <tr>\n",
       "      <th>662081</th>\n",
       "      <td>T_0</td>\n",
       "      <td>test_2021-03-01 02:30:02.237427</td>\n",
       "      <td>s_0</td>\n",
       "      <td>ct_1</td>\n",
       "    </tr>\n",
       "    <tr>\n",
       "      <th>671647</th>\n",
       "      <td>T_0</td>\n",
       "      <td>test_2021-03-01 02:30:02.237424</td>\n",
       "      <td>s_0</td>\n",
       "      <td>ct_1</td>\n",
       "    </tr>\n",
       "    <tr>\n",
       "      <th>679180</th>\n",
       "      <td>T_0</td>\n",
       "      <td>test_2021-03-01 02:30:02.237425</td>\n",
       "      <td>s_0</td>\n",
       "      <td>ct_1</td>\n",
       "    </tr>\n",
       "  </tbody>\n",
       "</table>\n",
       "<p>126 rows × 4 columns</p>\n",
       "</div>"
      ],
      "text/plain": [
       "       id_prod                             date session_id client_id\n",
       "27778      T_0  test_2021-03-01 02:30:02.237437        s_0      ct_1\n",
       "52424      T_0  test_2021-03-01 02:30:02.237419        s_0      ct_0\n",
       "96687      T_0  test_2021-03-01 02:30:02.237412        s_0      ct_1\n",
       "130188     T_0  test_2021-03-01 02:30:02.237419        s_0      ct_0\n",
       "139339     T_0  test_2021-03-01 02:30:02.237443        s_0      ct_1\n",
       "...        ...                              ...        ...       ...\n",
       "653098     T_0  test_2021-03-01 02:30:02.237432        s_0      ct_0\n",
       "657830     T_0  test_2021-03-01 02:30:02.237417        s_0      ct_0\n",
       "662081     T_0  test_2021-03-01 02:30:02.237427        s_0      ct_1\n",
       "671647     T_0  test_2021-03-01 02:30:02.237424        s_0      ct_1\n",
       "679180     T_0  test_2021-03-01 02:30:02.237425        s_0      ct_1\n",
       "\n",
       "[126 rows x 4 columns]"
      ]
     },
     "execution_count": 15,
     "metadata": {},
     "output_type": "execute_result"
    }
   ],
   "source": [
    "duplicates_before = transactions.duplicated().sum()\n",
    "print(bold + red + f\"\\nAu départ, le fichier contient les {duplicates_before} doublons suivants :\" + end)\n",
    "transactions[transactions.duplicated()]"
   ]
  },
  {
   "cell_type": "code",
   "execution_count": 16,
   "id": "036db663",
   "metadata": {
    "canvas": {
     "comments": [],
     "componentType": "CodeCell",
     "copiedOriginId": null,
     "diskcache": false,
     "headerColor": "none",
     "id": "cfd2a436-5bbe-44ca-8774-a908846ba378",
     "isComponent": false,
     "name": "",
     "parents": []
    }
   },
   "outputs": [
    {
     "name": "stdout",
     "output_type": "stream",
     "text": [
      "\u001b[1m\u001b[31m\n",
      "Avant nettoyage, la table contient 200 lignes avec des erreurs d'unicité d'écriture sur 679532 lignes :\u001b[0;0m\n"
     ]
    },
    {
     "data": {
      "text/html": [
       "<div>\n",
       "<style scoped>\n",
       "    .dataframe tbody tr th:only-of-type {\n",
       "        vertical-align: middle;\n",
       "    }\n",
       "\n",
       "    .dataframe tbody tr th {\n",
       "        vertical-align: top;\n",
       "    }\n",
       "\n",
       "    .dataframe thead th {\n",
       "        text-align: right;\n",
       "    }\n",
       "</style>\n",
       "<table border=\"1\" class=\"dataframe\">\n",
       "  <thead>\n",
       "    <tr style=\"text-align: right;\">\n",
       "      <th></th>\n",
       "      <th>id_prod</th>\n",
       "      <th>date</th>\n",
       "      <th>session_id</th>\n",
       "      <th>client_id</th>\n",
       "    </tr>\n",
       "  </thead>\n",
       "  <tbody>\n",
       "    <tr>\n",
       "      <th>3019</th>\n",
       "      <td>T_0</td>\n",
       "      <td>test_2021-03-01 02:30:02.237419</td>\n",
       "      <td>s_0</td>\n",
       "      <td>ct_0</td>\n",
       "    </tr>\n",
       "    <tr>\n",
       "      <th>5138</th>\n",
       "      <td>T_0</td>\n",
       "      <td>test_2021-03-01 02:30:02.237425</td>\n",
       "      <td>s_0</td>\n",
       "      <td>ct_0</td>\n",
       "    </tr>\n",
       "    <tr>\n",
       "      <th>9668</th>\n",
       "      <td>T_0</td>\n",
       "      <td>test_2021-03-01 02:30:02.237437</td>\n",
       "      <td>s_0</td>\n",
       "      <td>ct_1</td>\n",
       "    </tr>\n",
       "    <tr>\n",
       "      <th>10728</th>\n",
       "      <td>T_0</td>\n",
       "      <td>test_2021-03-01 02:30:02.237436</td>\n",
       "      <td>s_0</td>\n",
       "      <td>ct_0</td>\n",
       "    </tr>\n",
       "    <tr>\n",
       "      <th>15292</th>\n",
       "      <td>T_0</td>\n",
       "      <td>test_2021-03-01 02:30:02.237430</td>\n",
       "      <td>s_0</td>\n",
       "      <td>ct_0</td>\n",
       "    </tr>\n",
       "    <tr>\n",
       "      <th>...</th>\n",
       "      <td>...</td>\n",
       "      <td>...</td>\n",
       "      <td>...</td>\n",
       "      <td>...</td>\n",
       "    </tr>\n",
       "    <tr>\n",
       "      <th>657830</th>\n",
       "      <td>T_0</td>\n",
       "      <td>test_2021-03-01 02:30:02.237417</td>\n",
       "      <td>s_0</td>\n",
       "      <td>ct_0</td>\n",
       "    </tr>\n",
       "    <tr>\n",
       "      <th>662081</th>\n",
       "      <td>T_0</td>\n",
       "      <td>test_2021-03-01 02:30:02.237427</td>\n",
       "      <td>s_0</td>\n",
       "      <td>ct_1</td>\n",
       "    </tr>\n",
       "    <tr>\n",
       "      <th>670680</th>\n",
       "      <td>T_0</td>\n",
       "      <td>test_2021-03-01 02:30:02.237449</td>\n",
       "      <td>s_0</td>\n",
       "      <td>ct_1</td>\n",
       "    </tr>\n",
       "    <tr>\n",
       "      <th>671647</th>\n",
       "      <td>T_0</td>\n",
       "      <td>test_2021-03-01 02:30:02.237424</td>\n",
       "      <td>s_0</td>\n",
       "      <td>ct_1</td>\n",
       "    </tr>\n",
       "    <tr>\n",
       "      <th>679180</th>\n",
       "      <td>T_0</td>\n",
       "      <td>test_2021-03-01 02:30:02.237425</td>\n",
       "      <td>s_0</td>\n",
       "      <td>ct_1</td>\n",
       "    </tr>\n",
       "  </tbody>\n",
       "</table>\n",
       "<p>200 rows × 4 columns</p>\n",
       "</div>"
      ],
      "text/plain": [
       "       id_prod                             date session_id client_id\n",
       "3019       T_0  test_2021-03-01 02:30:02.237419        s_0      ct_0\n",
       "5138       T_0  test_2021-03-01 02:30:02.237425        s_0      ct_0\n",
       "9668       T_0  test_2021-03-01 02:30:02.237437        s_0      ct_1\n",
       "10728      T_0  test_2021-03-01 02:30:02.237436        s_0      ct_0\n",
       "15292      T_0  test_2021-03-01 02:30:02.237430        s_0      ct_0\n",
       "...        ...                              ...        ...       ...\n",
       "657830     T_0  test_2021-03-01 02:30:02.237417        s_0      ct_0\n",
       "662081     T_0  test_2021-03-01 02:30:02.237427        s_0      ct_1\n",
       "670680     T_0  test_2021-03-01 02:30:02.237449        s_0      ct_1\n",
       "671647     T_0  test_2021-03-01 02:30:02.237424        s_0      ct_1\n",
       "679180     T_0  test_2021-03-01 02:30:02.237425        s_0      ct_1\n",
       "\n",
       "[200 rows x 4 columns]"
      ]
     },
     "execution_count": 16,
     "metadata": {},
     "output_type": "execute_result"
    }
   ],
   "source": [
    "# On remarque que les doublons concernent des produits test, nous affichons leur nombre total\n",
    "before = transactions[transactions['id_prod'].str.contains(\"T_0\")]\n",
    "print(bold + red +\n",
    "      f\"\\nAvant nettoyage, la table contient {len(before)} lignes avec des erreurs d'unicité d'écriture sur {len(transactions)} lignes :\" + end)\n",
    "before"
   ]
  },
  {
   "cell_type": "code",
   "execution_count": 17,
   "id": "b3a83373",
   "metadata": {
    "canvas": {
     "comments": [],
     "componentType": "CodeCell",
     "copiedOriginId": null,
     "diskcache": false,
     "headerColor": "none",
     "id": "5174440a-0385-4aa7-89e5-c4c857556554",
     "isComponent": false,
     "name": "",
     "parents": []
    }
   },
   "outputs": [
    {
     "name": "stdout",
     "output_type": "stream",
     "text": [
      "\u001b[1m\u001b[31m\n",
      "Après nettoyage, la table ne contient plus d'erreurs d'unicité d'écriture et se compose de 679332 lignes :\u001b[0;0m\n"
     ]
    },
    {
     "data": {
      "text/html": [
       "<div>\n",
       "<style scoped>\n",
       "    .dataframe tbody tr th:only-of-type {\n",
       "        vertical-align: middle;\n",
       "    }\n",
       "\n",
       "    .dataframe tbody tr th {\n",
       "        vertical-align: top;\n",
       "    }\n",
       "\n",
       "    .dataframe thead th {\n",
       "        text-align: right;\n",
       "    }\n",
       "</style>\n",
       "<table border=\"1\" class=\"dataframe\">\n",
       "  <thead>\n",
       "    <tr style=\"text-align: right;\">\n",
       "      <th></th>\n",
       "      <th>id_prod</th>\n",
       "      <th>date</th>\n",
       "      <th>session_id</th>\n",
       "      <th>client_id</th>\n",
       "    </tr>\n",
       "  </thead>\n",
       "  <tbody>\n",
       "  </tbody>\n",
       "</table>\n",
       "</div>"
      ],
      "text/plain": [
       "Empty DataFrame\n",
       "Columns: [id_prod, date, session_id, client_id]\n",
       "Index: []"
      ]
     },
     "execution_count": 17,
     "metadata": {},
     "output_type": "execute_result"
    }
   ],
   "source": [
    "# Ils ne sont pas pertinents pour l'analyse donc suppression\n",
    "transactions = transactions[transactions['id_prod'].str.contains(\"T_0\") == False]\n",
    "print(bold + red +\n",
    "      f\"\\nAprès nettoyage, la table ne contient plus d'erreurs d'unicité d'écriture et se compose de {len(transactions)} lignes :\" + end)\n",
    "transactions[transactions['id_prod'].str.contains(\"T_0\")]"
   ]
  },
  {
   "cell_type": "code",
   "execution_count": 18,
   "id": "77629861",
   "metadata": {
    "canvas": {
     "comments": [],
     "componentType": "CodeCell",
     "copiedOriginId": null,
     "diskcache": false,
     "headerColor": "none",
     "id": "3cfc46f4-5d3c-497b-985d-48b2f8e2ba0b",
     "isComponent": false,
     "name": "",
     "parents": []
    }
   },
   "outputs": [
    {
     "name": "stdout",
     "output_type": "stream",
     "text": [
      "\u001b[1m\u001b[31m\n",
      "Après nettoyage, le fichier contient 0 doublon :\u001b[0;0m\n"
     ]
    },
    {
     "data": {
      "text/html": [
       "<div>\n",
       "<style scoped>\n",
       "    .dataframe tbody tr th:only-of-type {\n",
       "        vertical-align: middle;\n",
       "    }\n",
       "\n",
       "    .dataframe tbody tr th {\n",
       "        vertical-align: top;\n",
       "    }\n",
       "\n",
       "    .dataframe thead th {\n",
       "        text-align: right;\n",
       "    }\n",
       "</style>\n",
       "<table border=\"1\" class=\"dataframe\">\n",
       "  <thead>\n",
       "    <tr style=\"text-align: right;\">\n",
       "      <th></th>\n",
       "      <th>id_prod</th>\n",
       "      <th>date</th>\n",
       "      <th>session_id</th>\n",
       "      <th>client_id</th>\n",
       "    </tr>\n",
       "  </thead>\n",
       "  <tbody>\n",
       "  </tbody>\n",
       "</table>\n",
       "</div>"
      ],
      "text/plain": [
       "Empty DataFrame\n",
       "Columns: [id_prod, date, session_id, client_id]\n",
       "Index: []"
      ]
     },
     "execution_count": 18,
     "metadata": {},
     "output_type": "execute_result"
    }
   ],
   "source": [
    "duplicates_before = transactions.duplicated().sum()\n",
    "print(bold + red + f\"\\nAprès nettoyage, le fichier contient {duplicates_before} doublon :\" + end)\n",
    "transactions[transactions.duplicated()]"
   ]
  },
  {
   "cell_type": "markdown",
   "id": "07b4446a",
   "metadata": {
    "canvas": {
     "comments": [],
     "componentType": "CodeCell",
     "copiedOriginId": null,
     "diskcache": false,
     "headerColor": "none",
     "id": "5582ff95-e01d-415f-a1eb-a65deed8f60f",
     "isComponent": false,
     "name": "",
     "parents": []
    }
   },
   "source": [
    "## Changement de format vers datetime"
   ]
  },
  {
   "cell_type": "code",
   "execution_count": 19,
   "id": "edabe491",
   "metadata": {
    "canvas": {
     "comments": [],
     "componentType": "CodeCell",
     "copiedOriginId": null,
     "diskcache": false,
     "headerColor": "none",
     "id": "b9714ca0-52dc-4dd1-bf5d-61838632ff3a",
     "isComponent": false,
     "name": "",
     "parents": []
    }
   },
   "outputs": [],
   "source": [
    "transactions = transactions[transactions['date'].str.contains(\"test\") == False]\n",
    "# autre écriture possible : transactions = transactions[~transactions['date'].str.contains(\"test\")]"
   ]
  },
  {
   "cell_type": "code",
   "execution_count": 20,
   "id": "3c6c6193",
   "metadata": {
    "canvas": {
     "comments": [],
     "componentType": "CodeCell",
     "copiedOriginId": null,
     "diskcache": false,
     "headerColor": "none",
     "id": "09d5ef21-dc44-47c3-9501-35f0190949b1",
     "isComponent": false,
     "name": "",
     "parents": []
    }
   },
   "outputs": [
    {
     "data": {
      "text/plain": [
       "id_prod               object\n",
       "date          datetime64[ns]\n",
       "session_id            object\n",
       "client_id             object\n",
       "dtype: object"
      ]
     },
     "execution_count": 20,
     "metadata": {},
     "output_type": "execute_result"
    }
   ],
   "source": [
    "# transactions['date'] = pd.to_datetime(transactions['date'], format='%Y-%m-%d')\n",
    "transactions['date'] = pd.to_datetime(transactions['date'])\n",
    "#transactions['date'] = transactions['date'].dt.strftime('%Y-%m-%d')\n",
    "#transactions['date'] = pd.to_datetime(transactions['date'])\n",
    "transactions.dtypes # vérification des formats après modification"
   ]
  },
  {
   "cell_type": "markdown",
   "id": "c58137b9",
   "metadata": {
    "canvas": {
     "comments": [],
     "componentType": "CodeCell",
     "copiedOriginId": null,
     "diskcache": false,
     "headerColor": "none",
     "id": "5110659b-a691-4b2b-a364-0f10cba608a1",
     "isComponent": false,
     "name": "",
     "parents": []
    }
   },
   "source": [
    "# **Jointures**"
   ]
  },
  {
   "cell_type": "markdown",
   "id": "adb9d2f0",
   "metadata": {
    "canvas": {
     "comments": [],
     "componentType": "CodeCell",
     "copiedOriginId": null,
     "diskcache": false,
     "headerColor": "none",
     "id": "38251c0e-f42b-432c-9e8d-bb49a97b82b9",
     "isComponent": false,
     "name": "",
     "parents": []
    }
   },
   "source": [
    "## Jointure entre customers et transactions => cust_tran"
   ]
  },
  {
   "cell_type": "code",
   "execution_count": 21,
   "id": "7a3628c1",
   "metadata": {
    "canvas": {
     "comments": [],
     "componentType": "CodeCell",
     "copiedOriginId": null,
     "diskcache": false,
     "headerColor": "none",
     "id": "20ddb04a-5c2e-455f-b218-006b0ceb3a8a",
     "isComponent": false,
     "name": "",
     "parents": []
    }
   },
   "outputs": [
    {
     "name": "stdout",
     "output_type": "stream",
     "text": [
      "\u001b[31mLe DataFrame contient 679353 lignes\n",
      "\u001b[31m\n",
      "La proportion de 'both' est de 99.997 % soit 679332 lignes\n",
      "\u001b[31mLa proportion de 'left_only' est de 0.003 % 21 lignes\n",
      "\u001b[31mLa proportion de 'right_only' est de 0.0 % 0 lignes\n",
      "\u001b[31m\n",
      "Aperçu des données selon les jointures 'both', 'left_only' ou 'right_only' :\u001b[0;0m\n"
     ]
    },
    {
     "data": {
      "text/plain": [
       "(  client_id sex  birth id_prod                       date session_id _merge\n",
       " 0    c_4410   f   1967  0_1316 2021-12-29 09:11:18.860592   s_141762   both\n",
       " 1    c_4410   f   1967   1_385 2021-03-22 01:40:22.782925     s_9707   both\n",
       " 2    c_4410   f   1967   1_190 2021-11-12 18:11:43.280574   s_118628   both\n",
       " 3    c_4410   f   1967  0_1455 2021-03-22 14:29:25.189266     s_9942   both\n",
       " 4    c_4410   f   1967   1_483 2022-03-13 21:35:55.949042   s_178686   both,\n",
       "        client_id sex  birth id_prod date session_id     _merge\n",
       " 59493     c_8253   f   2001     NaN  NaT        NaN  left_only\n",
       " 200286    c_3789   f   1997     NaN  NaT        NaN  left_only\n",
       " 218173    c_4406   f   1998     NaN  NaT        NaN  left_only\n",
       " 220388    c_2706   f   1967     NaN  NaT        NaN  left_only\n",
       " 225538    c_3443   m   1959     NaN  NaT        NaN  left_only,\n",
       " Empty DataFrame\n",
       " Columns: [client_id, sex, birth, id_prod, date, session_id, _merge]\n",
       " Index: [])"
      ]
     },
     "execution_count": 21,
     "metadata": {},
     "output_type": "execute_result"
    }
   ],
   "source": [
    "df_merge(customers, transactions, 'client_id')"
   ]
  },
  {
   "cell_type": "code",
   "execution_count": 22,
   "id": "b1cccc9e",
   "metadata": {
    "canvas": {
     "comments": [],
     "componentType": "CodeCell",
     "copiedOriginId": null,
     "diskcache": false,
     "headerColor": "none",
     "id": "36001e25-7d38-44f0-83ea-8c9d2c0bb541",
     "isComponent": false,
     "name": "",
     "parents": []
    }
   },
   "outputs": [
    {
     "name": "stdout",
     "output_type": "stream",
     "text": [
      "\u001b[1m\u001b[31m\n",
      "21 identifiants clients de la table CUSTOMERS n'ont pas de correspondances dans la table TRANSACTIONS.\n",
      "Ces clients n'ont jamais passé de commandes :\u001b[0;0m\n"
     ]
    },
    {
     "data": {
      "text/html": [
       "<div>\n",
       "<style scoped>\n",
       "    .dataframe tbody tr th:only-of-type {\n",
       "        vertical-align: middle;\n",
       "    }\n",
       "\n",
       "    .dataframe tbody tr th {\n",
       "        vertical-align: top;\n",
       "    }\n",
       "\n",
       "    .dataframe thead th {\n",
       "        text-align: right;\n",
       "    }\n",
       "</style>\n",
       "<table border=\"1\" class=\"dataframe\">\n",
       "  <thead>\n",
       "    <tr style=\"text-align: right;\">\n",
       "      <th></th>\n",
       "      <th>client_id</th>\n",
       "      <th>sex</th>\n",
       "      <th>birth</th>\n",
       "      <th>id_prod</th>\n",
       "      <th>date</th>\n",
       "      <th>session_id</th>\n",
       "      <th>_merge</th>\n",
       "    </tr>\n",
       "  </thead>\n",
       "  <tbody>\n",
       "    <tr>\n",
       "      <th>59493</th>\n",
       "      <td>c_8253</td>\n",
       "      <td>f</td>\n",
       "      <td>2001</td>\n",
       "      <td>NaN</td>\n",
       "      <td>NaT</td>\n",
       "      <td>NaN</td>\n",
       "      <td>left_only</td>\n",
       "    </tr>\n",
       "    <tr>\n",
       "      <th>200286</th>\n",
       "      <td>c_3789</td>\n",
       "      <td>f</td>\n",
       "      <td>1997</td>\n",
       "      <td>NaN</td>\n",
       "      <td>NaT</td>\n",
       "      <td>NaN</td>\n",
       "      <td>left_only</td>\n",
       "    </tr>\n",
       "    <tr>\n",
       "      <th>218173</th>\n",
       "      <td>c_4406</td>\n",
       "      <td>f</td>\n",
       "      <td>1998</td>\n",
       "      <td>NaN</td>\n",
       "      <td>NaT</td>\n",
       "      <td>NaN</td>\n",
       "      <td>left_only</td>\n",
       "    </tr>\n",
       "    <tr>\n",
       "      <th>220388</th>\n",
       "      <td>c_2706</td>\n",
       "      <td>f</td>\n",
       "      <td>1967</td>\n",
       "      <td>NaN</td>\n",
       "      <td>NaT</td>\n",
       "      <td>NaN</td>\n",
       "      <td>left_only</td>\n",
       "    </tr>\n",
       "    <tr>\n",
       "      <th>225538</th>\n",
       "      <td>c_3443</td>\n",
       "      <td>m</td>\n",
       "      <td>1959</td>\n",
       "      <td>NaN</td>\n",
       "      <td>NaT</td>\n",
       "      <td>NaN</td>\n",
       "      <td>left_only</td>\n",
       "    </tr>\n",
       "    <tr>\n",
       "      <th>248409</th>\n",
       "      <td>c_4447</td>\n",
       "      <td>m</td>\n",
       "      <td>1956</td>\n",
       "      <td>NaN</td>\n",
       "      <td>NaT</td>\n",
       "      <td>NaN</td>\n",
       "      <td>left_only</td>\n",
       "    </tr>\n",
       "    <tr>\n",
       "      <th>248965</th>\n",
       "      <td>c_3017</td>\n",
       "      <td>f</td>\n",
       "      <td>1992</td>\n",
       "      <td>NaN</td>\n",
       "      <td>NaT</td>\n",
       "      <td>NaN</td>\n",
       "      <td>left_only</td>\n",
       "    </tr>\n",
       "    <tr>\n",
       "      <th>261024</th>\n",
       "      <td>c_4086</td>\n",
       "      <td>f</td>\n",
       "      <td>1992</td>\n",
       "      <td>NaN</td>\n",
       "      <td>NaT</td>\n",
       "      <td>NaN</td>\n",
       "      <td>left_only</td>\n",
       "    </tr>\n",
       "    <tr>\n",
       "      <th>313133</th>\n",
       "      <td>c_6930</td>\n",
       "      <td>m</td>\n",
       "      <td>2004</td>\n",
       "      <td>NaN</td>\n",
       "      <td>NaT</td>\n",
       "      <td>NaN</td>\n",
       "      <td>left_only</td>\n",
       "    </tr>\n",
       "    <tr>\n",
       "      <th>319727</th>\n",
       "      <td>c_4358</td>\n",
       "      <td>m</td>\n",
       "      <td>1999</td>\n",
       "      <td>NaN</td>\n",
       "      <td>NaT</td>\n",
       "      <td>NaN</td>\n",
       "      <td>left_only</td>\n",
       "    </tr>\n",
       "    <tr>\n",
       "      <th>387400</th>\n",
       "      <td>c_8381</td>\n",
       "      <td>f</td>\n",
       "      <td>1965</td>\n",
       "      <td>NaN</td>\n",
       "      <td>NaT</td>\n",
       "      <td>NaN</td>\n",
       "      <td>left_only</td>\n",
       "    </tr>\n",
       "    <tr>\n",
       "      <th>392684</th>\n",
       "      <td>c_1223</td>\n",
       "      <td>m</td>\n",
       "      <td>1963</td>\n",
       "      <td>NaN</td>\n",
       "      <td>NaT</td>\n",
       "      <td>NaN</td>\n",
       "      <td>left_only</td>\n",
       "    </tr>\n",
       "    <tr>\n",
       "      <th>489042</th>\n",
       "      <td>c_6862</td>\n",
       "      <td>f</td>\n",
       "      <td>2002</td>\n",
       "      <td>NaN</td>\n",
       "      <td>NaT</td>\n",
       "      <td>NaN</td>\n",
       "      <td>left_only</td>\n",
       "    </tr>\n",
       "    <tr>\n",
       "      <th>495775</th>\n",
       "      <td>c_5245</td>\n",
       "      <td>f</td>\n",
       "      <td>2004</td>\n",
       "      <td>NaN</td>\n",
       "      <td>NaT</td>\n",
       "      <td>NaN</td>\n",
       "      <td>left_only</td>\n",
       "    </tr>\n",
       "    <tr>\n",
       "      <th>505514</th>\n",
       "      <td>c_5223</td>\n",
       "      <td>m</td>\n",
       "      <td>2003</td>\n",
       "      <td>NaN</td>\n",
       "      <td>NaT</td>\n",
       "      <td>NaN</td>\n",
       "      <td>left_only</td>\n",
       "    </tr>\n",
       "    <tr>\n",
       "      <th>514454</th>\n",
       "      <td>c_6735</td>\n",
       "      <td>m</td>\n",
       "      <td>2004</td>\n",
       "      <td>NaN</td>\n",
       "      <td>NaT</td>\n",
       "      <td>NaN</td>\n",
       "      <td>left_only</td>\n",
       "    </tr>\n",
       "    <tr>\n",
       "      <th>523204</th>\n",
       "      <td>c_862</td>\n",
       "      <td>f</td>\n",
       "      <td>1956</td>\n",
       "      <td>NaN</td>\n",
       "      <td>NaT</td>\n",
       "      <td>NaN</td>\n",
       "      <td>left_only</td>\n",
       "    </tr>\n",
       "    <tr>\n",
       "      <th>542254</th>\n",
       "      <td>c_7584</td>\n",
       "      <td>f</td>\n",
       "      <td>1960</td>\n",
       "      <td>NaN</td>\n",
       "      <td>NaT</td>\n",
       "      <td>NaN</td>\n",
       "      <td>left_only</td>\n",
       "    </tr>\n",
       "    <tr>\n",
       "      <th>611161</th>\n",
       "      <td>c_90</td>\n",
       "      <td>m</td>\n",
       "      <td>2001</td>\n",
       "      <td>NaN</td>\n",
       "      <td>NaT</td>\n",
       "      <td>NaN</td>\n",
       "      <td>left_only</td>\n",
       "    </tr>\n",
       "    <tr>\n",
       "      <th>612632</th>\n",
       "      <td>c_587</td>\n",
       "      <td>m</td>\n",
       "      <td>1993</td>\n",
       "      <td>NaN</td>\n",
       "      <td>NaT</td>\n",
       "      <td>NaN</td>\n",
       "      <td>left_only</td>\n",
       "    </tr>\n",
       "    <tr>\n",
       "      <th>673192</th>\n",
       "      <td>c_3526</td>\n",
       "      <td>m</td>\n",
       "      <td>1956</td>\n",
       "      <td>NaN</td>\n",
       "      <td>NaT</td>\n",
       "      <td>NaN</td>\n",
       "      <td>left_only</td>\n",
       "    </tr>\n",
       "  </tbody>\n",
       "</table>\n",
       "</div>"
      ],
      "text/plain": [
       "       client_id sex  birth id_prod date session_id     _merge\n",
       "59493     c_8253   f   2001     NaN  NaT        NaN  left_only\n",
       "200286    c_3789   f   1997     NaN  NaT        NaN  left_only\n",
       "218173    c_4406   f   1998     NaN  NaT        NaN  left_only\n",
       "220388    c_2706   f   1967     NaN  NaT        NaN  left_only\n",
       "225538    c_3443   m   1959     NaN  NaT        NaN  left_only\n",
       "248409    c_4447   m   1956     NaN  NaT        NaN  left_only\n",
       "248965    c_3017   f   1992     NaN  NaT        NaN  left_only\n",
       "261024    c_4086   f   1992     NaN  NaT        NaN  left_only\n",
       "313133    c_6930   m   2004     NaN  NaT        NaN  left_only\n",
       "319727    c_4358   m   1999     NaN  NaT        NaN  left_only\n",
       "387400    c_8381   f   1965     NaN  NaT        NaN  left_only\n",
       "392684    c_1223   m   1963     NaN  NaT        NaN  left_only\n",
       "489042    c_6862   f   2002     NaN  NaT        NaN  left_only\n",
       "495775    c_5245   f   2004     NaN  NaT        NaN  left_only\n",
       "505514    c_5223   m   2003     NaN  NaT        NaN  left_only\n",
       "514454    c_6735   m   2004     NaN  NaT        NaN  left_only\n",
       "523204     c_862   f   1956     NaN  NaT        NaN  left_only\n",
       "542254    c_7584   f   1960     NaN  NaT        NaN  left_only\n",
       "611161      c_90   m   2001     NaN  NaT        NaN  left_only\n",
       "612632     c_587   m   1993     NaN  NaT        NaN  left_only\n",
       "673192    c_3526   m   1956     NaN  NaT        NaN  left_only"
      ]
     },
     "execution_count": 22,
     "metadata": {},
     "output_type": "execute_result"
    }
   ],
   "source": [
    "# Pour information\n",
    "cust_tran = customers.merge(transactions, on='client_id', how='outer', indicator=True)\n",
    "cust_tran_left = cust_tran[cust_tran['_merge'] == 'left_only']\n",
    "print(bold + red + f\"\\n{len(cust_tran_left)} identifiants clients de la table CUSTOMERS n'ont pas de correspondances dans la table TRANSACTIONS.\\nCes clients n'ont jamais passé de commandes :\" + end)\n",
    "cust_tran_left"
   ]
  },
  {
   "cell_type": "code",
   "execution_count": 23,
   "id": "0e294ae1",
   "metadata": {
    "canvas": {
     "comments": [],
     "componentType": "CodeCell",
     "copiedOriginId": null,
     "diskcache": false,
     "headerColor": "none",
     "id": "15644709-239c-422c-ae85-bf283e895f93",
     "isComponent": false,
     "name": "",
     "parents": []
    }
   },
   "outputs": [
    {
     "data": {
      "text/html": [
       "<div>\n",
       "<style scoped>\n",
       "    .dataframe tbody tr th:only-of-type {\n",
       "        vertical-align: middle;\n",
       "    }\n",
       "\n",
       "    .dataframe tbody tr th {\n",
       "        vertical-align: top;\n",
       "    }\n",
       "\n",
       "    .dataframe thead th {\n",
       "        text-align: right;\n",
       "    }\n",
       "</style>\n",
       "<table border=\"1\" class=\"dataframe\">\n",
       "  <thead>\n",
       "    <tr style=\"text-align: right;\">\n",
       "      <th></th>\n",
       "      <th>client_id</th>\n",
       "      <th>sex</th>\n",
       "      <th>birth</th>\n",
       "      <th>id_prod</th>\n",
       "      <th>date</th>\n",
       "      <th>session_id</th>\n",
       "    </tr>\n",
       "  </thead>\n",
       "  <tbody>\n",
       "    <tr>\n",
       "      <th>0</th>\n",
       "      <td>c_4410</td>\n",
       "      <td>f</td>\n",
       "      <td>1967</td>\n",
       "      <td>0_1316</td>\n",
       "      <td>2021-12-29 09:11:18.860592</td>\n",
       "      <td>s_141762</td>\n",
       "    </tr>\n",
       "    <tr>\n",
       "      <th>1</th>\n",
       "      <td>c_4410</td>\n",
       "      <td>f</td>\n",
       "      <td>1967</td>\n",
       "      <td>1_385</td>\n",
       "      <td>2021-03-22 01:40:22.782925</td>\n",
       "      <td>s_9707</td>\n",
       "    </tr>\n",
       "    <tr>\n",
       "      <th>2</th>\n",
       "      <td>c_4410</td>\n",
       "      <td>f</td>\n",
       "      <td>1967</td>\n",
       "      <td>1_190</td>\n",
       "      <td>2021-11-12 18:11:43.280574</td>\n",
       "      <td>s_118628</td>\n",
       "    </tr>\n",
       "    <tr>\n",
       "      <th>3</th>\n",
       "      <td>c_4410</td>\n",
       "      <td>f</td>\n",
       "      <td>1967</td>\n",
       "      <td>0_1455</td>\n",
       "      <td>2021-03-22 14:29:25.189266</td>\n",
       "      <td>s_9942</td>\n",
       "    </tr>\n",
       "    <tr>\n",
       "      <th>4</th>\n",
       "      <td>c_4410</td>\n",
       "      <td>f</td>\n",
       "      <td>1967</td>\n",
       "      <td>1_483</td>\n",
       "      <td>2022-03-13 21:35:55.949042</td>\n",
       "      <td>s_178686</td>\n",
       "    </tr>\n",
       "  </tbody>\n",
       "</table>\n",
       "</div>"
      ],
      "text/plain": [
       "  client_id sex  birth id_prod                       date session_id\n",
       "0    c_4410   f   1967  0_1316 2021-12-29 09:11:18.860592   s_141762\n",
       "1    c_4410   f   1967   1_385 2021-03-22 01:40:22.782925     s_9707\n",
       "2    c_4410   f   1967   1_190 2021-11-12 18:11:43.280574   s_118628\n",
       "3    c_4410   f   1967  0_1455 2021-03-22 14:29:25.189266     s_9942\n",
       "4    c_4410   f   1967   1_483 2022-03-13 21:35:55.949042   s_178686"
      ]
     },
     "execution_count": 23,
     "metadata": {},
     "output_type": "execute_result"
    }
   ],
   "source": [
    "# Création de la jointure pour l'analyse\n",
    "cust_tran = cust_tran[cust_tran['_merge'] == 'both']\n",
    "cust_tran = cust_tran.drop(columns='_merge')\n",
    "cust_tran.head()"
   ]
  },
  {
   "cell_type": "markdown",
   "id": "bab7ac8b",
   "metadata": {
    "canvas": {
     "comments": [],
     "componentType": "CodeCell",
     "copiedOriginId": null,
     "diskcache": false,
     "headerColor": "none",
     "id": "a13a3569-29c3-4fae-b9f5-40a8794a09ee",
     "isComponent": false,
     "name": "",
     "parents": []
    }
   },
   "source": [
    "## Jointure finale entre products et cust_tran => cust_prod_tran"
   ]
  },
  {
   "cell_type": "code",
   "execution_count": 24,
   "id": "a0f52893",
   "metadata": {
    "canvas": {
     "comments": [],
     "componentType": "CodeCell",
     "copiedOriginId": null,
     "diskcache": false,
     "headerColor": "none",
     "id": "b0cb393a-3a80-4590-acee-758199795073",
     "isComponent": false,
     "name": "",
     "parents": []
    }
   },
   "outputs": [
    {
     "name": "stdout",
     "output_type": "stream",
     "text": [
      "\u001b[31mLe DataFrame contient 679353 lignes\n",
      "\u001b[31m\n",
      "La proportion de 'both' est de 99.964 % soit 679111 lignes\n",
      "\u001b[31mLa proportion de 'left_only' est de 0.003 % 21 lignes\n",
      "\u001b[31mLa proportion de 'right_only' est de 0.033 % 221 lignes\n",
      "\u001b[31m\n",
      "Aperçu des données selon les jointures 'both', 'left_only' ou 'right_only' :\u001b[0;0m\n"
     ]
    },
    {
     "data": {
      "text/plain": [
       "(  id_prod  price  categ client_id sex   birth                       date  \\\n",
       " 0   0_528   0.62    0.0    c_6534   f  1999.0 2021-10-03 06:32:48.512716   \n",
       " 1   0_528   0.62    0.0    c_7075   m  1988.0 2021-06-20 20:31:40.948364   \n",
       " 2   0_528   0.62    0.0    c_7075   m  1988.0 2022-06-20 20:31:40.948364   \n",
       " 3   0_528   0.62    0.0    c_5636   f  1989.0 2021-06-24 18:55:00.312636   \n",
       " 4   0_528   0.62    0.0    c_4951   m  1984.0 2021-10-14 11:22:30.187048   \n",
       " \n",
       "   session_id _merge  \n",
       " 0    s_99272   both  \n",
       " 1    s_51439   both  \n",
       " 2   s_226722   both  \n",
       " 3    s_53240   both  \n",
       " 4   s_104606   both  ,\n",
       "      id_prod  price  categ client_id  sex  birth date session_id     _merge\n",
       " 38    0_1620   0.80    0.0       NaN  NaN    NaN  NaT        NaN  left_only\n",
       " 256   0_1014   1.15    0.0       NaN  NaN    NaN  NaT        NaN  left_only\n",
       " 414   0_1780   1.67    0.0       NaN  NaN    NaN  NaT        NaN  left_only\n",
       " 554    0_310   1.94    0.0       NaN  NaN    NaN  NaT        NaN  left_only\n",
       " 1688   0_322   2.99    0.0       NaN  NaN    NaN  NaT        NaN  left_only,\n",
       "        id_prod  price  categ client_id sex   birth                       date  \\\n",
       " 679132  0_2245    NaN    NaN    c_4505   m  1976.0 2022-01-09 09:23:31.000720   \n",
       " 679133  0_2245    NaN    NaN    c_4505   m  1976.0 2022-11-09 09:23:31.000720   \n",
       " 679134  0_2245    NaN    NaN    c_3468   f  1981.0 2021-09-11 10:52:05.205583   \n",
       " 679135  0_2245    NaN    NaN    c_3468   f  1981.0 2022-05-11 10:52:05.205583   \n",
       " 679136  0_2245    NaN    NaN    c_1403   f  1978.0 2022-09-15 14:26:50.187952   \n",
       " \n",
       "        session_id      _merge  \n",
       " 679132   s_147220  right_only  \n",
       " 679133   s_295013  right_only  \n",
       " 679134    s_88251  right_only  \n",
       " 679135   s_206902  right_only  \n",
       " 679136   s_268455  right_only  )"
      ]
     },
     "execution_count": 24,
     "metadata": {},
     "output_type": "execute_result"
    }
   ],
   "source": [
    "df_merge(products, cust_tran, 'id_prod')"
   ]
  },
  {
   "cell_type": "code",
   "execution_count": 25,
   "id": "844404d2",
   "metadata": {
    "canvas": {
     "comments": [],
     "componentType": "CodeCell",
     "copiedOriginId": null,
     "diskcache": false,
     "headerColor": "none",
     "id": "cff3778e-49c8-43ee-8843-bcc282d4dc73",
     "isComponent": false,
     "name": "",
     "parents": []
    }
   },
   "outputs": [
    {
     "name": "stdout",
     "output_type": "stream",
     "text": [
      "\u001b[1m\u001b[31m\n",
      "21 identifiants produits de la table PRODUCTS n'ont pas de correspondances dans la table TRANSACTIONS.\n",
      "Ces produits n'ont jamais été achetés :\u001b[0;0m\n"
     ]
    },
    {
     "data": {
      "text/html": [
       "<div>\n",
       "<style scoped>\n",
       "    .dataframe tbody tr th:only-of-type {\n",
       "        vertical-align: middle;\n",
       "    }\n",
       "\n",
       "    .dataframe tbody tr th {\n",
       "        vertical-align: top;\n",
       "    }\n",
       "\n",
       "    .dataframe thead th {\n",
       "        text-align: right;\n",
       "    }\n",
       "</style>\n",
       "<table border=\"1\" class=\"dataframe\">\n",
       "  <thead>\n",
       "    <tr style=\"text-align: right;\">\n",
       "      <th></th>\n",
       "      <th>id_prod</th>\n",
       "      <th>price</th>\n",
       "      <th>categ</th>\n",
       "      <th>client_id</th>\n",
       "      <th>sex</th>\n",
       "      <th>birth</th>\n",
       "      <th>date</th>\n",
       "      <th>session_id</th>\n",
       "      <th>_merge</th>\n",
       "    </tr>\n",
       "  </thead>\n",
       "  <tbody>\n",
       "    <tr>\n",
       "      <th>38</th>\n",
       "      <td>0_1620</td>\n",
       "      <td>0.80</td>\n",
       "      <td>0.0</td>\n",
       "      <td>NaN</td>\n",
       "      <td>NaN</td>\n",
       "      <td>NaN</td>\n",
       "      <td>NaT</td>\n",
       "      <td>NaN</td>\n",
       "      <td>left_only</td>\n",
       "    </tr>\n",
       "    <tr>\n",
       "      <th>256</th>\n",
       "      <td>0_1014</td>\n",
       "      <td>1.15</td>\n",
       "      <td>0.0</td>\n",
       "      <td>NaN</td>\n",
       "      <td>NaN</td>\n",
       "      <td>NaN</td>\n",
       "      <td>NaT</td>\n",
       "      <td>NaN</td>\n",
       "      <td>left_only</td>\n",
       "    </tr>\n",
       "    <tr>\n",
       "      <th>414</th>\n",
       "      <td>0_1780</td>\n",
       "      <td>1.67</td>\n",
       "      <td>0.0</td>\n",
       "      <td>NaN</td>\n",
       "      <td>NaN</td>\n",
       "      <td>NaN</td>\n",
       "      <td>NaT</td>\n",
       "      <td>NaN</td>\n",
       "      <td>left_only</td>\n",
       "    </tr>\n",
       "    <tr>\n",
       "      <th>554</th>\n",
       "      <td>0_310</td>\n",
       "      <td>1.94</td>\n",
       "      <td>0.0</td>\n",
       "      <td>NaN</td>\n",
       "      <td>NaN</td>\n",
       "      <td>NaN</td>\n",
       "      <td>NaT</td>\n",
       "      <td>NaN</td>\n",
       "      <td>left_only</td>\n",
       "    </tr>\n",
       "    <tr>\n",
       "      <th>1688</th>\n",
       "      <td>0_322</td>\n",
       "      <td>2.99</td>\n",
       "      <td>0.0</td>\n",
       "      <td>NaN</td>\n",
       "      <td>NaN</td>\n",
       "      <td>NaN</td>\n",
       "      <td>NaT</td>\n",
       "      <td>NaN</td>\n",
       "      <td>left_only</td>\n",
       "    </tr>\n",
       "    <tr>\n",
       "      <th>1828</th>\n",
       "      <td>0_1645</td>\n",
       "      <td>2.99</td>\n",
       "      <td>0.0</td>\n",
       "      <td>NaN</td>\n",
       "      <td>NaN</td>\n",
       "      <td>NaN</td>\n",
       "      <td>NaT</td>\n",
       "      <td>NaN</td>\n",
       "      <td>left_only</td>\n",
       "    </tr>\n",
       "    <tr>\n",
       "      <th>2503</th>\n",
       "      <td>0_1119</td>\n",
       "      <td>2.99</td>\n",
       "      <td>0.0</td>\n",
       "      <td>NaN</td>\n",
       "      <td>NaN</td>\n",
       "      <td>NaN</td>\n",
       "      <td>NaT</td>\n",
       "      <td>NaN</td>\n",
       "      <td>left_only</td>\n",
       "    </tr>\n",
       "    <tr>\n",
       "      <th>534485</th>\n",
       "      <td>0_1062</td>\n",
       "      <td>20.08</td>\n",
       "      <td>0.0</td>\n",
       "      <td>NaN</td>\n",
       "      <td>NaN</td>\n",
       "      <td>NaN</td>\n",
       "      <td>NaT</td>\n",
       "      <td>NaN</td>\n",
       "      <td>left_only</td>\n",
       "    </tr>\n",
       "    <tr>\n",
       "      <th>534515</th>\n",
       "      <td>0_2308</td>\n",
       "      <td>20.28</td>\n",
       "      <td>0.0</td>\n",
       "      <td>NaN</td>\n",
       "      <td>NaN</td>\n",
       "      <td>NaN</td>\n",
       "      <td>NaT</td>\n",
       "      <td>NaN</td>\n",
       "      <td>left_only</td>\n",
       "    </tr>\n",
       "    <tr>\n",
       "      <th>536497</th>\n",
       "      <td>0_1318</td>\n",
       "      <td>20.92</td>\n",
       "      <td>0.0</td>\n",
       "      <td>NaN</td>\n",
       "      <td>NaN</td>\n",
       "      <td>NaN</td>\n",
       "      <td>NaT</td>\n",
       "      <td>NaN</td>\n",
       "      <td>left_only</td>\n",
       "    </tr>\n",
       "    <tr>\n",
       "      <th>549252</th>\n",
       "      <td>0_1800</td>\n",
       "      <td>22.05</td>\n",
       "      <td>0.0</td>\n",
       "      <td>NaN</td>\n",
       "      <td>NaN</td>\n",
       "      <td>NaN</td>\n",
       "      <td>NaT</td>\n",
       "      <td>NaN</td>\n",
       "      <td>left_only</td>\n",
       "    </tr>\n",
       "    <tr>\n",
       "      <th>557104</th>\n",
       "      <td>0_299</td>\n",
       "      <td>22.99</td>\n",
       "      <td>0.0</td>\n",
       "      <td>NaN</td>\n",
       "      <td>NaN</td>\n",
       "      <td>NaN</td>\n",
       "      <td>NaT</td>\n",
       "      <td>NaN</td>\n",
       "      <td>left_only</td>\n",
       "    </tr>\n",
       "    <tr>\n",
       "      <th>565033</th>\n",
       "      <td>0_510</td>\n",
       "      <td>23.66</td>\n",
       "      <td>0.0</td>\n",
       "      <td>NaN</td>\n",
       "      <td>NaN</td>\n",
       "      <td>NaN</td>\n",
       "      <td>NaT</td>\n",
       "      <td>NaN</td>\n",
       "      <td>left_only</td>\n",
       "    </tr>\n",
       "    <tr>\n",
       "      <th>579840</th>\n",
       "      <td>0_1624</td>\n",
       "      <td>24.50</td>\n",
       "      <td>0.0</td>\n",
       "      <td>NaN</td>\n",
       "      <td>NaN</td>\n",
       "      <td>NaN</td>\n",
       "      <td>NaT</td>\n",
       "      <td>NaN</td>\n",
       "      <td>left_only</td>\n",
       "    </tr>\n",
       "    <tr>\n",
       "      <th>588289</th>\n",
       "      <td>0_1025</td>\n",
       "      <td>24.99</td>\n",
       "      <td>0.0</td>\n",
       "      <td>NaN</td>\n",
       "      <td>NaN</td>\n",
       "      <td>NaN</td>\n",
       "      <td>NaT</td>\n",
       "      <td>NaN</td>\n",
       "      <td>left_only</td>\n",
       "    </tr>\n",
       "    <tr>\n",
       "      <th>634479</th>\n",
       "      <td>1_0</td>\n",
       "      <td>31.82</td>\n",
       "      <td>1.0</td>\n",
       "      <td>NaN</td>\n",
       "      <td>NaN</td>\n",
       "      <td>NaN</td>\n",
       "      <td>NaT</td>\n",
       "      <td>NaN</td>\n",
       "      <td>left_only</td>\n",
       "    </tr>\n",
       "    <tr>\n",
       "      <th>637022</th>\n",
       "      <td>0_1016</td>\n",
       "      <td>35.06</td>\n",
       "      <td>0.0</td>\n",
       "      <td>NaN</td>\n",
       "      <td>NaN</td>\n",
       "      <td>NaN</td>\n",
       "      <td>NaT</td>\n",
       "      <td>NaN</td>\n",
       "      <td>left_only</td>\n",
       "    </tr>\n",
       "    <tr>\n",
       "      <th>638633</th>\n",
       "      <td>1_394</td>\n",
       "      <td>39.73</td>\n",
       "      <td>1.0</td>\n",
       "      <td>NaN</td>\n",
       "      <td>NaN</td>\n",
       "      <td>NaN</td>\n",
       "      <td>NaT</td>\n",
       "      <td>NaN</td>\n",
       "      <td>left_only</td>\n",
       "    </tr>\n",
       "    <tr>\n",
       "      <th>675157</th>\n",
       "      <td>2_86</td>\n",
       "      <td>132.36</td>\n",
       "      <td>2.0</td>\n",
       "      <td>NaN</td>\n",
       "      <td>NaN</td>\n",
       "      <td>NaN</td>\n",
       "      <td>NaT</td>\n",
       "      <td>NaN</td>\n",
       "      <td>left_only</td>\n",
       "    </tr>\n",
       "    <tr>\n",
       "      <th>675582</th>\n",
       "      <td>2_72</td>\n",
       "      <td>141.32</td>\n",
       "      <td>2.0</td>\n",
       "      <td>NaN</td>\n",
       "      <td>NaN</td>\n",
       "      <td>NaN</td>\n",
       "      <td>NaT</td>\n",
       "      <td>NaN</td>\n",
       "      <td>left_only</td>\n",
       "    </tr>\n",
       "    <tr>\n",
       "      <th>678427</th>\n",
       "      <td>2_87</td>\n",
       "      <td>220.99</td>\n",
       "      <td>2.0</td>\n",
       "      <td>NaN</td>\n",
       "      <td>NaN</td>\n",
       "      <td>NaN</td>\n",
       "      <td>NaT</td>\n",
       "      <td>NaN</td>\n",
       "      <td>left_only</td>\n",
       "    </tr>\n",
       "  </tbody>\n",
       "</table>\n",
       "</div>"
      ],
      "text/plain": [
       "       id_prod   price  categ client_id  sex  birth date session_id     _merge\n",
       "38      0_1620    0.80    0.0       NaN  NaN    NaN  NaT        NaN  left_only\n",
       "256     0_1014    1.15    0.0       NaN  NaN    NaN  NaT        NaN  left_only\n",
       "414     0_1780    1.67    0.0       NaN  NaN    NaN  NaT        NaN  left_only\n",
       "554      0_310    1.94    0.0       NaN  NaN    NaN  NaT        NaN  left_only\n",
       "1688     0_322    2.99    0.0       NaN  NaN    NaN  NaT        NaN  left_only\n",
       "1828    0_1645    2.99    0.0       NaN  NaN    NaN  NaT        NaN  left_only\n",
       "2503    0_1119    2.99    0.0       NaN  NaN    NaN  NaT        NaN  left_only\n",
       "534485  0_1062   20.08    0.0       NaN  NaN    NaN  NaT        NaN  left_only\n",
       "534515  0_2308   20.28    0.0       NaN  NaN    NaN  NaT        NaN  left_only\n",
       "536497  0_1318   20.92    0.0       NaN  NaN    NaN  NaT        NaN  left_only\n",
       "549252  0_1800   22.05    0.0       NaN  NaN    NaN  NaT        NaN  left_only\n",
       "557104   0_299   22.99    0.0       NaN  NaN    NaN  NaT        NaN  left_only\n",
       "565033   0_510   23.66    0.0       NaN  NaN    NaN  NaT        NaN  left_only\n",
       "579840  0_1624   24.50    0.0       NaN  NaN    NaN  NaT        NaN  left_only\n",
       "588289  0_1025   24.99    0.0       NaN  NaN    NaN  NaT        NaN  left_only\n",
       "634479     1_0   31.82    1.0       NaN  NaN    NaN  NaT        NaN  left_only\n",
       "637022  0_1016   35.06    0.0       NaN  NaN    NaN  NaT        NaN  left_only\n",
       "638633   1_394   39.73    1.0       NaN  NaN    NaN  NaT        NaN  left_only\n",
       "675157    2_86  132.36    2.0       NaN  NaN    NaN  NaT        NaN  left_only\n",
       "675582    2_72  141.32    2.0       NaN  NaN    NaN  NaT        NaN  left_only\n",
       "678427    2_87  220.99    2.0       NaN  NaN    NaN  NaT        NaN  left_only"
      ]
     },
     "execution_count": 25,
     "metadata": {},
     "output_type": "execute_result"
    }
   ],
   "source": [
    "# Pour information\n",
    "cust_prod_tran = products.merge(cust_tran, on='id_prod', how='outer', indicator=True)\n",
    "cust_prod_tran_left = cust_prod_tran[cust_prod_tran['_merge'] == 'left_only']\n",
    "print(bold + red + f\"\\n{len(cust_prod_tran_left)} identifiants produits de la table PRODUCTS n'ont pas de correspondances dans la table TRANSACTIONS.\\nCes produits n'ont jamais été achetés :\" + end)\n",
    "cust_prod_tran_left"
   ]
  },
  {
   "cell_type": "markdown",
   "id": "d40e1415",
   "metadata": {
    "canvas": {
     "comments": [],
     "componentType": "CodeCell",
     "copiedOriginId": null,
     "diskcache": false,
     "headerColor": "none",
     "id": "41ff0264-736f-43c0-9dee-d19fded0b436",
     "isComponent": false,
     "name": "",
     "parents": []
    }
   },
   "source": [
    "### Détection de produits vendus non référencés dans la table PRODUCTS"
   ]
  },
  {
   "cell_type": "code",
   "execution_count": 26,
   "id": "680da9b8",
   "metadata": {
    "canvas": {
     "comments": [],
     "componentType": "CodeCell",
     "copiedOriginId": null,
     "diskcache": false,
     "headerColor": "none",
     "id": "79473a75-18e9-4b5f-8b17-2f38fabe9640",
     "isComponent": false,
     "name": "",
     "parents": []
    }
   },
   "outputs": [
    {
     "name": "stdout",
     "output_type": "stream",
     "text": [
      "\u001b[1m\u001b[31m\n",
      "L'identifiant produit '0_2245' de la table TRANSACTIONS n'est pas référencé dans la table PRODUCTS :\u001b[0;0m\n"
     ]
    },
    {
     "data": {
      "text/html": [
       "<div>\n",
       "<style scoped>\n",
       "    .dataframe tbody tr th:only-of-type {\n",
       "        vertical-align: middle;\n",
       "    }\n",
       "\n",
       "    .dataframe tbody tr th {\n",
       "        vertical-align: top;\n",
       "    }\n",
       "\n",
       "    .dataframe thead th {\n",
       "        text-align: right;\n",
       "    }\n",
       "</style>\n",
       "<table border=\"1\" class=\"dataframe\">\n",
       "  <thead>\n",
       "    <tr style=\"text-align: right;\">\n",
       "      <th></th>\n",
       "      <th>id_prod</th>\n",
       "      <th>price</th>\n",
       "      <th>categ</th>\n",
       "      <th>client_id</th>\n",
       "      <th>sex</th>\n",
       "      <th>birth</th>\n",
       "      <th>date</th>\n",
       "      <th>session_id</th>\n",
       "      <th>_merge</th>\n",
       "    </tr>\n",
       "  </thead>\n",
       "  <tbody>\n",
       "    <tr>\n",
       "      <th>679132</th>\n",
       "      <td>0_2245</td>\n",
       "      <td>NaN</td>\n",
       "      <td>NaN</td>\n",
       "      <td>c_4505</td>\n",
       "      <td>m</td>\n",
       "      <td>1976.0</td>\n",
       "      <td>2022-01-09 09:23:31.000720</td>\n",
       "      <td>s_147220</td>\n",
       "      <td>right_only</td>\n",
       "    </tr>\n",
       "    <tr>\n",
       "      <th>679133</th>\n",
       "      <td>0_2245</td>\n",
       "      <td>NaN</td>\n",
       "      <td>NaN</td>\n",
       "      <td>c_4505</td>\n",
       "      <td>m</td>\n",
       "      <td>1976.0</td>\n",
       "      <td>2022-11-09 09:23:31.000720</td>\n",
       "      <td>s_295013</td>\n",
       "      <td>right_only</td>\n",
       "    </tr>\n",
       "    <tr>\n",
       "      <th>679134</th>\n",
       "      <td>0_2245</td>\n",
       "      <td>NaN</td>\n",
       "      <td>NaN</td>\n",
       "      <td>c_3468</td>\n",
       "      <td>f</td>\n",
       "      <td>1981.0</td>\n",
       "      <td>2021-09-11 10:52:05.205583</td>\n",
       "      <td>s_88251</td>\n",
       "      <td>right_only</td>\n",
       "    </tr>\n",
       "    <tr>\n",
       "      <th>679135</th>\n",
       "      <td>0_2245</td>\n",
       "      <td>NaN</td>\n",
       "      <td>NaN</td>\n",
       "      <td>c_3468</td>\n",
       "      <td>f</td>\n",
       "      <td>1981.0</td>\n",
       "      <td>2022-05-11 10:52:05.205583</td>\n",
       "      <td>s_206902</td>\n",
       "      <td>right_only</td>\n",
       "    </tr>\n",
       "    <tr>\n",
       "      <th>679136</th>\n",
       "      <td>0_2245</td>\n",
       "      <td>NaN</td>\n",
       "      <td>NaN</td>\n",
       "      <td>c_1403</td>\n",
       "      <td>f</td>\n",
       "      <td>1978.0</td>\n",
       "      <td>2022-09-15 14:26:50.187952</td>\n",
       "      <td>s_268455</td>\n",
       "      <td>right_only</td>\n",
       "    </tr>\n",
       "    <tr>\n",
       "      <th>...</th>\n",
       "      <td>...</td>\n",
       "      <td>...</td>\n",
       "      <td>...</td>\n",
       "      <td>...</td>\n",
       "      <td>...</td>\n",
       "      <td>...</td>\n",
       "      <td>...</td>\n",
       "      <td>...</td>\n",
       "      <td>...</td>\n",
       "    </tr>\n",
       "    <tr>\n",
       "      <th>679348</th>\n",
       "      <td>0_2245</td>\n",
       "      <td>NaN</td>\n",
       "      <td>NaN</td>\n",
       "      <td>c_4283</td>\n",
       "      <td>f</td>\n",
       "      <td>1976.0</td>\n",
       "      <td>2022-08-01 02:46:38.931757</td>\n",
       "      <td>s_246657</td>\n",
       "      <td>right_only</td>\n",
       "    </tr>\n",
       "    <tr>\n",
       "      <th>679349</th>\n",
       "      <td>0_2245</td>\n",
       "      <td>NaN</td>\n",
       "      <td>NaN</td>\n",
       "      <td>c_4283</td>\n",
       "      <td>f</td>\n",
       "      <td>1976.0</td>\n",
       "      <td>2021-09-01 02:46:38.931757</td>\n",
       "      <td>s_83377</td>\n",
       "      <td>right_only</td>\n",
       "    </tr>\n",
       "    <tr>\n",
       "      <th>679350</th>\n",
       "      <td>0_2245</td>\n",
       "      <td>NaN</td>\n",
       "      <td>NaN</td>\n",
       "      <td>c_6236</td>\n",
       "      <td>f</td>\n",
       "      <td>1976.0</td>\n",
       "      <td>2022-02-25 00:08:08.736068</td>\n",
       "      <td>s_170426</td>\n",
       "      <td>right_only</td>\n",
       "    </tr>\n",
       "    <tr>\n",
       "      <th>679351</th>\n",
       "      <td>0_2245</td>\n",
       "      <td>NaN</td>\n",
       "      <td>NaN</td>\n",
       "      <td>c_4453</td>\n",
       "      <td>m</td>\n",
       "      <td>1981.0</td>\n",
       "      <td>2022-02-16 11:35:20.319501</td>\n",
       "      <td>s_166050</td>\n",
       "      <td>right_only</td>\n",
       "    </tr>\n",
       "    <tr>\n",
       "      <th>679352</th>\n",
       "      <td>0_2245</td>\n",
       "      <td>NaN</td>\n",
       "      <td>NaN</td>\n",
       "      <td>c_4453</td>\n",
       "      <td>m</td>\n",
       "      <td>1981.0</td>\n",
       "      <td>2022-05-16 11:35:20.319501</td>\n",
       "      <td>s_209381</td>\n",
       "      <td>right_only</td>\n",
       "    </tr>\n",
       "  </tbody>\n",
       "</table>\n",
       "<p>221 rows × 9 columns</p>\n",
       "</div>"
      ],
      "text/plain": [
       "       id_prod  price  categ client_id sex   birth                       date  \\\n",
       "679132  0_2245    NaN    NaN    c_4505   m  1976.0 2022-01-09 09:23:31.000720   \n",
       "679133  0_2245    NaN    NaN    c_4505   m  1976.0 2022-11-09 09:23:31.000720   \n",
       "679134  0_2245    NaN    NaN    c_3468   f  1981.0 2021-09-11 10:52:05.205583   \n",
       "679135  0_2245    NaN    NaN    c_3468   f  1981.0 2022-05-11 10:52:05.205583   \n",
       "679136  0_2245    NaN    NaN    c_1403   f  1978.0 2022-09-15 14:26:50.187952   \n",
       "...        ...    ...    ...       ...  ..     ...                        ...   \n",
       "679348  0_2245    NaN    NaN    c_4283   f  1976.0 2022-08-01 02:46:38.931757   \n",
       "679349  0_2245    NaN    NaN    c_4283   f  1976.0 2021-09-01 02:46:38.931757   \n",
       "679350  0_2245    NaN    NaN    c_6236   f  1976.0 2022-02-25 00:08:08.736068   \n",
       "679351  0_2245    NaN    NaN    c_4453   m  1981.0 2022-02-16 11:35:20.319501   \n",
       "679352  0_2245    NaN    NaN    c_4453   m  1981.0 2022-05-16 11:35:20.319501   \n",
       "\n",
       "       session_id      _merge  \n",
       "679132   s_147220  right_only  \n",
       "679133   s_295013  right_only  \n",
       "679134    s_88251  right_only  \n",
       "679135   s_206902  right_only  \n",
       "679136   s_268455  right_only  \n",
       "...           ...         ...  \n",
       "679348   s_246657  right_only  \n",
       "679349    s_83377  right_only  \n",
       "679350   s_170426  right_only  \n",
       "679351   s_166050  right_only  \n",
       "679352   s_209381  right_only  \n",
       "\n",
       "[221 rows x 9 columns]"
      ]
     },
     "execution_count": 26,
     "metadata": {},
     "output_type": "execute_result"
    }
   ],
   "source": [
    "cust_prod_tran_right = cust_prod_tran[cust_prod_tran['_merge'] == 'right_only']\n",
    "print(bold + red + f\"\\nL'identifiant produit '0_2245' de la table TRANSACTIONS n'est pas référencé dans la table PRODUCTS :\" + end)\n",
    "cust_prod_tran_right"
   ]
  },
  {
   "cell_type": "markdown",
   "id": "8d913f4b",
   "metadata": {
    "canvas": {
     "comments": [],
     "componentType": "CodeCell",
     "copiedOriginId": null,
     "diskcache": false,
     "headerColor": "none",
     "id": "aaef388e-1d6f-47f0-8179-e67c358e41a3",
     "isComponent": false,
     "name": "",
     "parents": []
    }
   },
   "source": [
    "<span style=\"color:red\">**Nous allons mettre à jour le référencement du produit '0_2245'**</span>\n",
    "\n",
    "\n",
    "<span style=\"color:red\">**=> Son identifiant produit commençant par '0_', il nous indique qu'il appartient à la catégorie 0**</span>"
   ]
  },
  {
   "cell_type": "markdown",
   "id": "194468c7",
   "metadata": {
    "canvas": {
     "comments": [],
     "componentType": "CodeCell",
     "copiedOriginId": null,
     "diskcache": false,
     "headerColor": "none",
     "id": "7383bcd5-6b98-4961-96d1-720052ccefee",
     "isComponent": false,
     "name": "",
     "parents": []
    }
   },
   "source": [
    "#### Vérification des outliers de la catégorie 0 "
   ]
  },
  {
   "cell_type": "code",
   "execution_count": 27,
   "id": "d6e461cc",
   "metadata": {
    "canvas": {
     "comments": [],
     "componentType": "CodeCell",
     "copiedOriginId": null,
     "diskcache": false,
     "headerColor": "none",
     "id": "9cc45062-9a82-4c33-b038-d414feb3aa5e",
     "isComponent": false,
     "name": "",
     "parents": []
    }
   },
   "outputs": [
    {
     "name": "stdout",
     "output_type": "stream",
     "text": [
      "\u001b[1m\u001b[31m\n",
      "106 produits sont concernés par un z-score > 1,96 soit 4.59 % des observations :\u001b[0;0m\n"
     ]
    },
    {
     "data": {
      "text/html": [
       "<div>\n",
       "<style scoped>\n",
       "    .dataframe tbody tr th:only-of-type {\n",
       "        vertical-align: middle;\n",
       "    }\n",
       "\n",
       "    .dataframe tbody tr th {\n",
       "        vertical-align: top;\n",
       "    }\n",
       "\n",
       "    .dataframe thead th {\n",
       "        text-align: right;\n",
       "    }\n",
       "</style>\n",
       "<table border=\"1\" class=\"dataframe\">\n",
       "  <thead>\n",
       "    <tr style=\"text-align: right;\">\n",
       "      <th></th>\n",
       "      <th>id_prod</th>\n",
       "      <th>price</th>\n",
       "      <th>categ</th>\n",
       "    </tr>\n",
       "  </thead>\n",
       "  <tbody>\n",
       "    <tr>\n",
       "      <th>1209</th>\n",
       "      <td>0_1006</td>\n",
       "      <td>26.64</td>\n",
       "      <td>0</td>\n",
       "    </tr>\n",
       "    <tr>\n",
       "      <th>15</th>\n",
       "      <td>0_1232</td>\n",
       "      <td>26.65</td>\n",
       "      <td>0</td>\n",
       "    </tr>\n",
       "    <tr>\n",
       "      <th>2228</th>\n",
       "      <td>0_1492</td>\n",
       "      <td>26.65</td>\n",
       "      <td>0</td>\n",
       "    </tr>\n",
       "    <tr>\n",
       "      <th>2076</th>\n",
       "      <td>0_716</td>\n",
       "      <td>26.69</td>\n",
       "      <td>0</td>\n",
       "    </tr>\n",
       "    <tr>\n",
       "      <th>277</th>\n",
       "      <td>0_1148</td>\n",
       "      <td>26.77</td>\n",
       "      <td>0</td>\n",
       "    </tr>\n",
       "  </tbody>\n",
       "</table>\n",
       "</div>"
      ],
      "text/plain": [
       "     id_prod  price  categ\n",
       "1209  0_1006  26.64      0\n",
       "15    0_1232  26.65      0\n",
       "2228  0_1492  26.65      0\n",
       "2076   0_716  26.69      0\n",
       "277   0_1148  26.77      0"
      ]
     },
     "execution_count": 27,
     "metadata": {},
     "output_type": "execute_result"
    }
   ],
   "source": [
    "# vérification du z-score en vue du choix de méthode pour référencer le produit manquant\n",
    "products_cat0 = products[products['categ'] == 0]\n",
    "products_cat0.sort_values(by=['price'], inplace=True)\n",
    "z = stats.zscore(products_cat0['price'])\n",
    "outlier_z = products_cat0[z > 1.96]\n",
    "nb_outlier_z = len(outlier_z)\n",
    "print(bold + red + f\"\\n{nb_outlier_z} produits sont concernés par un z-score > 1,96 soit {round(float(nb_outlier_z / len(products_cat0)) * 100, 2)} % des observations :\" + end)\n",
    "outlier_z.head()"
   ]
  },
  {
   "cell_type": "markdown",
   "id": "e8988657",
   "metadata": {
    "canvas": {
     "comments": [],
     "componentType": "CodeCell",
     "copiedOriginId": null,
     "diskcache": false,
     "headerColor": "none",
     "id": "fb7641f0-73bf-4295-b104-7d10e6ae3a1d",
     "isComponent": false,
     "name": "",
     "parents": []
    }
   },
   "source": [
    "#### Misa à jour du référencement du produit '0_2245'"
   ]
  },
  {
   "cell_type": "code",
   "execution_count": 28,
   "id": "af58a475",
   "metadata": {
    "canvas": {
     "comments": [],
     "componentType": "CodeCell",
     "copiedOriginId": null,
     "diskcache": false,
     "headerColor": "none",
     "id": "b92645ec-8ca1-4e29-8cee-c97935d45c87",
     "isComponent": false,
     "name": "",
     "parents": []
    }
   },
   "outputs": [
    {
     "name": "stdout",
     "output_type": "stream",
     "text": [
      "\u001b[1m\u001b[31m\n",
      "La médiane des prix par catégorie est de :\n",
      "\u001b[0;0m\n",
      "        price\n",
      "categ        \n",
      "0       10.32\n",
      "1       22.99\n",
      "2      101.99\n",
      "\u001b[1m\u001b[31m\n",
      "\n",
      "Après nettoyage, l'identifiant '0_2245' a été référencé dans la jointure tel que :\u001b[0;0m\n"
     ]
    },
    {
     "data": {
      "text/html": [
       "<div>\n",
       "<style scoped>\n",
       "    .dataframe tbody tr th:only-of-type {\n",
       "        vertical-align: middle;\n",
       "    }\n",
       "\n",
       "    .dataframe tbody tr th {\n",
       "        vertical-align: top;\n",
       "    }\n",
       "\n",
       "    .dataframe thead th {\n",
       "        text-align: right;\n",
       "    }\n",
       "</style>\n",
       "<table border=\"1\" class=\"dataframe\">\n",
       "  <thead>\n",
       "    <tr style=\"text-align: right;\">\n",
       "      <th></th>\n",
       "      <th>id_prod</th>\n",
       "      <th>price</th>\n",
       "      <th>categ</th>\n",
       "      <th>client_id</th>\n",
       "      <th>sex</th>\n",
       "      <th>birth</th>\n",
       "      <th>date</th>\n",
       "      <th>session_id</th>\n",
       "      <th>_merge</th>\n",
       "    </tr>\n",
       "  </thead>\n",
       "  <tbody>\n",
       "    <tr>\n",
       "      <th>679132</th>\n",
       "      <td>0_2245</td>\n",
       "      <td>10.32</td>\n",
       "      <td>0.0</td>\n",
       "      <td>c_4505</td>\n",
       "      <td>m</td>\n",
       "      <td>1976.0</td>\n",
       "      <td>2022-01-09 09:23:31.000720</td>\n",
       "      <td>s_147220</td>\n",
       "      <td>right_only</td>\n",
       "    </tr>\n",
       "    <tr>\n",
       "      <th>679133</th>\n",
       "      <td>0_2245</td>\n",
       "      <td>10.32</td>\n",
       "      <td>0.0</td>\n",
       "      <td>c_4505</td>\n",
       "      <td>m</td>\n",
       "      <td>1976.0</td>\n",
       "      <td>2022-11-09 09:23:31.000720</td>\n",
       "      <td>s_295013</td>\n",
       "      <td>right_only</td>\n",
       "    </tr>\n",
       "    <tr>\n",
       "      <th>679134</th>\n",
       "      <td>0_2245</td>\n",
       "      <td>10.32</td>\n",
       "      <td>0.0</td>\n",
       "      <td>c_3468</td>\n",
       "      <td>f</td>\n",
       "      <td>1981.0</td>\n",
       "      <td>2021-09-11 10:52:05.205583</td>\n",
       "      <td>s_88251</td>\n",
       "      <td>right_only</td>\n",
       "    </tr>\n",
       "    <tr>\n",
       "      <th>679135</th>\n",
       "      <td>0_2245</td>\n",
       "      <td>10.32</td>\n",
       "      <td>0.0</td>\n",
       "      <td>c_3468</td>\n",
       "      <td>f</td>\n",
       "      <td>1981.0</td>\n",
       "      <td>2022-05-11 10:52:05.205583</td>\n",
       "      <td>s_206902</td>\n",
       "      <td>right_only</td>\n",
       "    </tr>\n",
       "    <tr>\n",
       "      <th>679136</th>\n",
       "      <td>0_2245</td>\n",
       "      <td>10.32</td>\n",
       "      <td>0.0</td>\n",
       "      <td>c_1403</td>\n",
       "      <td>f</td>\n",
       "      <td>1978.0</td>\n",
       "      <td>2022-09-15 14:26:50.187952</td>\n",
       "      <td>s_268455</td>\n",
       "      <td>right_only</td>\n",
       "    </tr>\n",
       "    <tr>\n",
       "      <th>...</th>\n",
       "      <td>...</td>\n",
       "      <td>...</td>\n",
       "      <td>...</td>\n",
       "      <td>...</td>\n",
       "      <td>...</td>\n",
       "      <td>...</td>\n",
       "      <td>...</td>\n",
       "      <td>...</td>\n",
       "      <td>...</td>\n",
       "    </tr>\n",
       "    <tr>\n",
       "      <th>679348</th>\n",
       "      <td>0_2245</td>\n",
       "      <td>10.32</td>\n",
       "      <td>0.0</td>\n",
       "      <td>c_4283</td>\n",
       "      <td>f</td>\n",
       "      <td>1976.0</td>\n",
       "      <td>2022-08-01 02:46:38.931757</td>\n",
       "      <td>s_246657</td>\n",
       "      <td>right_only</td>\n",
       "    </tr>\n",
       "    <tr>\n",
       "      <th>679349</th>\n",
       "      <td>0_2245</td>\n",
       "      <td>10.32</td>\n",
       "      <td>0.0</td>\n",
       "      <td>c_4283</td>\n",
       "      <td>f</td>\n",
       "      <td>1976.0</td>\n",
       "      <td>2021-09-01 02:46:38.931757</td>\n",
       "      <td>s_83377</td>\n",
       "      <td>right_only</td>\n",
       "    </tr>\n",
       "    <tr>\n",
       "      <th>679350</th>\n",
       "      <td>0_2245</td>\n",
       "      <td>10.32</td>\n",
       "      <td>0.0</td>\n",
       "      <td>c_6236</td>\n",
       "      <td>f</td>\n",
       "      <td>1976.0</td>\n",
       "      <td>2022-02-25 00:08:08.736068</td>\n",
       "      <td>s_170426</td>\n",
       "      <td>right_only</td>\n",
       "    </tr>\n",
       "    <tr>\n",
       "      <th>679351</th>\n",
       "      <td>0_2245</td>\n",
       "      <td>10.32</td>\n",
       "      <td>0.0</td>\n",
       "      <td>c_4453</td>\n",
       "      <td>m</td>\n",
       "      <td>1981.0</td>\n",
       "      <td>2022-02-16 11:35:20.319501</td>\n",
       "      <td>s_166050</td>\n",
       "      <td>right_only</td>\n",
       "    </tr>\n",
       "    <tr>\n",
       "      <th>679352</th>\n",
       "      <td>0_2245</td>\n",
       "      <td>10.32</td>\n",
       "      <td>0.0</td>\n",
       "      <td>c_4453</td>\n",
       "      <td>m</td>\n",
       "      <td>1981.0</td>\n",
       "      <td>2022-05-16 11:35:20.319501</td>\n",
       "      <td>s_209381</td>\n",
       "      <td>right_only</td>\n",
       "    </tr>\n",
       "  </tbody>\n",
       "</table>\n",
       "<p>221 rows × 9 columns</p>\n",
       "</div>"
      ],
      "text/plain": [
       "       id_prod  price  categ client_id sex   birth                       date  \\\n",
       "679132  0_2245  10.32    0.0    c_4505   m  1976.0 2022-01-09 09:23:31.000720   \n",
       "679133  0_2245  10.32    0.0    c_4505   m  1976.0 2022-11-09 09:23:31.000720   \n",
       "679134  0_2245  10.32    0.0    c_3468   f  1981.0 2021-09-11 10:52:05.205583   \n",
       "679135  0_2245  10.32    0.0    c_3468   f  1981.0 2022-05-11 10:52:05.205583   \n",
       "679136  0_2245  10.32    0.0    c_1403   f  1978.0 2022-09-15 14:26:50.187952   \n",
       "...        ...    ...    ...       ...  ..     ...                        ...   \n",
       "679348  0_2245  10.32    0.0    c_4283   f  1976.0 2022-08-01 02:46:38.931757   \n",
       "679349  0_2245  10.32    0.0    c_4283   f  1976.0 2021-09-01 02:46:38.931757   \n",
       "679350  0_2245  10.32    0.0    c_6236   f  1976.0 2022-02-25 00:08:08.736068   \n",
       "679351  0_2245  10.32    0.0    c_4453   m  1981.0 2022-02-16 11:35:20.319501   \n",
       "679352  0_2245  10.32    0.0    c_4453   m  1981.0 2022-05-16 11:35:20.319501   \n",
       "\n",
       "       session_id      _merge  \n",
       "679132   s_147220  right_only  \n",
       "679133   s_295013  right_only  \n",
       "679134    s_88251  right_only  \n",
       "679135   s_206902  right_only  \n",
       "679136   s_268455  right_only  \n",
       "...           ...         ...  \n",
       "679348   s_246657  right_only  \n",
       "679349    s_83377  right_only  \n",
       "679350   s_170426  right_only  \n",
       "679351   s_166050  right_only  \n",
       "679352   s_209381  right_only  \n",
       "\n",
       "[221 rows x 9 columns]"
      ]
     },
     "execution_count": 28,
     "metadata": {},
     "output_type": "execute_result"
    }
   ],
   "source": [
    "# Remplacement des NaN dans \"categ\" par 0\n",
    "cust_prod_tran['categ'] = cust_prod_tran['categ'].fillna(0)\n",
    "\n",
    "# Affichage de la médiane des prix par catégorie (la catégorie 'O' étant affectée par les outliers)\n",
    "print(bold + red + f\"\\nLa médiane des prix par catégorie est de :\\n\" + end)\n",
    "print(products.groupby('categ').median())\n",
    "\n",
    "# Remplacement des NaN dans \"price\" par la moyenne des prix de la catégorie 0\n",
    "cust_prod_tran['price'] = cust_prod_tran['price'].fillna(10.32)\n",
    "\n",
    "# Affichage de l'identifiant '0_2245' après nettoyage\n",
    "cust_prod_tran_right = cust_prod_tran[cust_prod_tran['id_prod'] == '0_2245']\n",
    "print(bold + red + f\"\\n\\nAprès nettoyage, l'identifiant '0_2245' a été référencé dans la jointure tel que :\" + end)\n",
    "cust_prod_tran_right"
   ]
  },
  {
   "cell_type": "code",
   "execution_count": 29,
   "id": "427e79c8",
   "metadata": {
    "canvas": {
     "comments": [],
     "componentType": "CodeCell",
     "copiedOriginId": null,
     "diskcache": false,
     "headerColor": "none",
     "id": "8a9a2bec-71c0-40bb-b10f-1ec742d5120e",
     "isComponent": false,
     "name": "",
     "parents": []
    }
   },
   "outputs": [
    {
     "data": {
      "text/html": [
       "<div>\n",
       "<style scoped>\n",
       "    .dataframe tbody tr th:only-of-type {\n",
       "        vertical-align: middle;\n",
       "    }\n",
       "\n",
       "    .dataframe tbody tr th {\n",
       "        vertical-align: top;\n",
       "    }\n",
       "\n",
       "    .dataframe thead th {\n",
       "        text-align: right;\n",
       "    }\n",
       "</style>\n",
       "<table border=\"1\" class=\"dataframe\">\n",
       "  <thead>\n",
       "    <tr style=\"text-align: right;\">\n",
       "      <th></th>\n",
       "      <th>id_prod</th>\n",
       "      <th>price</th>\n",
       "      <th>categ</th>\n",
       "      <th>client_id</th>\n",
       "      <th>sex</th>\n",
       "      <th>birth</th>\n",
       "      <th>date</th>\n",
       "      <th>session_id</th>\n",
       "    </tr>\n",
       "  </thead>\n",
       "  <tbody>\n",
       "    <tr>\n",
       "      <th>679111</th>\n",
       "      <td>0_2245</td>\n",
       "      <td>10.32</td>\n",
       "      <td>0.0</td>\n",
       "      <td>c_4505</td>\n",
       "      <td>m</td>\n",
       "      <td>1976.0</td>\n",
       "      <td>2022-01-09 09:23:31.000720</td>\n",
       "      <td>s_147220</td>\n",
       "    </tr>\n",
       "    <tr>\n",
       "      <th>679112</th>\n",
       "      <td>0_2245</td>\n",
       "      <td>10.32</td>\n",
       "      <td>0.0</td>\n",
       "      <td>c_4505</td>\n",
       "      <td>m</td>\n",
       "      <td>1976.0</td>\n",
       "      <td>2022-11-09 09:23:31.000720</td>\n",
       "      <td>s_295013</td>\n",
       "    </tr>\n",
       "    <tr>\n",
       "      <th>679113</th>\n",
       "      <td>0_2245</td>\n",
       "      <td>10.32</td>\n",
       "      <td>0.0</td>\n",
       "      <td>c_3468</td>\n",
       "      <td>f</td>\n",
       "      <td>1981.0</td>\n",
       "      <td>2021-09-11 10:52:05.205583</td>\n",
       "      <td>s_88251</td>\n",
       "    </tr>\n",
       "    <tr>\n",
       "      <th>679114</th>\n",
       "      <td>0_2245</td>\n",
       "      <td>10.32</td>\n",
       "      <td>0.0</td>\n",
       "      <td>c_3468</td>\n",
       "      <td>f</td>\n",
       "      <td>1981.0</td>\n",
       "      <td>2022-05-11 10:52:05.205583</td>\n",
       "      <td>s_206902</td>\n",
       "    </tr>\n",
       "    <tr>\n",
       "      <th>679115</th>\n",
       "      <td>0_2245</td>\n",
       "      <td>10.32</td>\n",
       "      <td>0.0</td>\n",
       "      <td>c_1403</td>\n",
       "      <td>f</td>\n",
       "      <td>1978.0</td>\n",
       "      <td>2022-09-15 14:26:50.187952</td>\n",
       "      <td>s_268455</td>\n",
       "    </tr>\n",
       "    <tr>\n",
       "      <th>...</th>\n",
       "      <td>...</td>\n",
       "      <td>...</td>\n",
       "      <td>...</td>\n",
       "      <td>...</td>\n",
       "      <td>...</td>\n",
       "      <td>...</td>\n",
       "      <td>...</td>\n",
       "      <td>...</td>\n",
       "    </tr>\n",
       "    <tr>\n",
       "      <th>679327</th>\n",
       "      <td>0_2245</td>\n",
       "      <td>10.32</td>\n",
       "      <td>0.0</td>\n",
       "      <td>c_4283</td>\n",
       "      <td>f</td>\n",
       "      <td>1976.0</td>\n",
       "      <td>2022-08-01 02:46:38.931757</td>\n",
       "      <td>s_246657</td>\n",
       "    </tr>\n",
       "    <tr>\n",
       "      <th>679328</th>\n",
       "      <td>0_2245</td>\n",
       "      <td>10.32</td>\n",
       "      <td>0.0</td>\n",
       "      <td>c_4283</td>\n",
       "      <td>f</td>\n",
       "      <td>1976.0</td>\n",
       "      <td>2021-09-01 02:46:38.931757</td>\n",
       "      <td>s_83377</td>\n",
       "    </tr>\n",
       "    <tr>\n",
       "      <th>679329</th>\n",
       "      <td>0_2245</td>\n",
       "      <td>10.32</td>\n",
       "      <td>0.0</td>\n",
       "      <td>c_6236</td>\n",
       "      <td>f</td>\n",
       "      <td>1976.0</td>\n",
       "      <td>2022-02-25 00:08:08.736068</td>\n",
       "      <td>s_170426</td>\n",
       "    </tr>\n",
       "    <tr>\n",
       "      <th>679330</th>\n",
       "      <td>0_2245</td>\n",
       "      <td>10.32</td>\n",
       "      <td>0.0</td>\n",
       "      <td>c_4453</td>\n",
       "      <td>m</td>\n",
       "      <td>1981.0</td>\n",
       "      <td>2022-02-16 11:35:20.319501</td>\n",
       "      <td>s_166050</td>\n",
       "    </tr>\n",
       "    <tr>\n",
       "      <th>679331</th>\n",
       "      <td>0_2245</td>\n",
       "      <td>10.32</td>\n",
       "      <td>0.0</td>\n",
       "      <td>c_4453</td>\n",
       "      <td>m</td>\n",
       "      <td>1981.0</td>\n",
       "      <td>2022-05-16 11:35:20.319501</td>\n",
       "      <td>s_209381</td>\n",
       "    </tr>\n",
       "  </tbody>\n",
       "</table>\n",
       "<p>221 rows × 8 columns</p>\n",
       "</div>"
      ],
      "text/plain": [
       "       id_prod  price  categ client_id sex   birth                       date  \\\n",
       "679111  0_2245  10.32    0.0    c_4505   m  1976.0 2022-01-09 09:23:31.000720   \n",
       "679112  0_2245  10.32    0.0    c_4505   m  1976.0 2022-11-09 09:23:31.000720   \n",
       "679113  0_2245  10.32    0.0    c_3468   f  1981.0 2021-09-11 10:52:05.205583   \n",
       "679114  0_2245  10.32    0.0    c_3468   f  1981.0 2022-05-11 10:52:05.205583   \n",
       "679115  0_2245  10.32    0.0    c_1403   f  1978.0 2022-09-15 14:26:50.187952   \n",
       "...        ...    ...    ...       ...  ..     ...                        ...   \n",
       "679327  0_2245  10.32    0.0    c_4283   f  1976.0 2022-08-01 02:46:38.931757   \n",
       "679328  0_2245  10.32    0.0    c_4283   f  1976.0 2021-09-01 02:46:38.931757   \n",
       "679329  0_2245  10.32    0.0    c_6236   f  1976.0 2022-02-25 00:08:08.736068   \n",
       "679330  0_2245  10.32    0.0    c_4453   m  1981.0 2022-02-16 11:35:20.319501   \n",
       "679331  0_2245  10.32    0.0    c_4453   m  1981.0 2022-05-16 11:35:20.319501   \n",
       "\n",
       "       session_id  \n",
       "679111   s_147220  \n",
       "679112   s_295013  \n",
       "679113    s_88251  \n",
       "679114   s_206902  \n",
       "679115   s_268455  \n",
       "...           ...  \n",
       "679327   s_246657  \n",
       "679328    s_83377  \n",
       "679329   s_170426  \n",
       "679330   s_166050  \n",
       "679331   s_209381  \n",
       "\n",
       "[221 rows x 8 columns]"
      ]
     },
     "execution_count": 29,
     "metadata": {},
     "output_type": "execute_result"
    }
   ],
   "source": [
    "# Création de la jointure pour l'analyse\n",
    "cust_prod_tran_inner = products.merge(cust_tran, on='id_prod', how='inner', indicator=True)\n",
    "cust_prod_tran_right = cust_prod_tran[cust_prod_tran['_merge'] == 'right_only']\n",
    "cust_prod_tran = pd.concat([cust_prod_tran_inner, cust_prod_tran_right], ignore_index=True)\n",
    "# suppression de la colonne '_merge'\n",
    "cust_prod_tran = cust_prod_tran.drop(columns='_merge')\n",
    "cust_prod_tran[cust_prod_tran['id_prod'] == '0_2245']"
   ]
  },
  {
   "cell_type": "markdown",
   "id": "3a05af37",
   "metadata": {
    "canvas": {
     "comments": [],
     "componentType": "CodeCell",
     "copiedOriginId": null,
     "diskcache": false,
     "headerColor": "none",
     "id": "c4be4684-19fe-4e64-8a06-6ae3a775db79",
     "isComponent": false,
     "name": "",
     "parents": []
    }
   },
   "source": [
    "# **Vérification des variables** de cust_prod_tran"
   ]
  },
  {
   "cell_type": "code",
   "execution_count": 30,
   "id": "0acdb650",
   "metadata": {
    "canvas": {
     "comments": [],
     "componentType": "CodeCell",
     "copiedOriginId": null,
     "diskcache": false,
     "headerColor": "none",
     "id": "4e5323c4-b233-4aa6-ae29-70856566bb3c",
     "isComponent": false,
     "name": "",
     "parents": []
    }
   },
   "outputs": [
    {
     "name": "stdout",
     "output_type": "stream",
     "text": [
      "<class 'pandas.core.frame.DataFrame'>\n",
      "RangeIndex: 679332 entries, 0 to 679331\n",
      "Data columns (total 8 columns):\n",
      " #   Column      Non-Null Count   Dtype         \n",
      "---  ------      --------------   -----         \n",
      " 0   id_prod     679332 non-null  object        \n",
      " 1   price       679332 non-null  float64       \n",
      " 2   categ       679332 non-null  float64       \n",
      " 3   client_id   679332 non-null  object        \n",
      " 4   sex         679332 non-null  object        \n",
      " 5   birth       679332 non-null  float64       \n",
      " 6   date        679332 non-null  datetime64[ns]\n",
      " 7   session_id  679332 non-null  object        \n",
      "dtypes: datetime64[ns](1), float64(3), object(4)\n",
      "memory usage: 41.5+ MB\n"
     ]
    }
   ],
   "source": [
    "cust_prod_tran.info()"
   ]
  },
  {
   "cell_type": "markdown",
   "id": "2eaa5d13",
   "metadata": {
    "canvas": {
     "comments": [],
     "componentType": "CodeCell",
     "copiedOriginId": null,
     "diskcache": false,
     "headerColor": "none",
     "id": "12a48664-51b3-45c5-98b7-8f3f10e482c0",
     "isComponent": false,
     "name": "",
     "parents": []
    }
   },
   "source": [
    "### Price"
   ]
  },
  {
   "cell_type": "code",
   "execution_count": 31,
   "id": "e154acfc",
   "metadata": {
    "canvas": {
     "comments": [],
     "componentType": "CodeCell",
     "copiedOriginId": null,
     "diskcache": false,
     "headerColor": "none",
     "id": "0a178481-c0db-4f82-9add-c340b5aff89d",
     "isComponent": false,
     "name": "",
     "parents": []
    }
   },
   "outputs": [
    {
     "data": {
      "text/html": [
       "<div>\n",
       "<style scoped>\n",
       "    .dataframe tbody tr th:only-of-type {\n",
       "        vertical-align: middle;\n",
       "    }\n",
       "\n",
       "    .dataframe tbody tr th {\n",
       "        vertical-align: top;\n",
       "    }\n",
       "\n",
       "    .dataframe thead th {\n",
       "        text-align: right;\n",
       "    }\n",
       "</style>\n",
       "<table border=\"1\" class=\"dataframe\">\n",
       "  <thead>\n",
       "    <tr style=\"text-align: right;\">\n",
       "      <th></th>\n",
       "      <th>id_prod</th>\n",
       "      <th>price</th>\n",
       "      <th>categ</th>\n",
       "      <th>client_id</th>\n",
       "      <th>sex</th>\n",
       "      <th>birth</th>\n",
       "      <th>date</th>\n",
       "      <th>session_id</th>\n",
       "    </tr>\n",
       "  </thead>\n",
       "  <tbody>\n",
       "  </tbody>\n",
       "</table>\n",
       "</div>"
      ],
      "text/plain": [
       "Empty DataFrame\n",
       "Columns: [id_prod, price, categ, client_id, sex, birth, date, session_id]\n",
       "Index: []"
      ]
     },
     "execution_count": 31,
     "metadata": {},
     "output_type": "execute_result"
    }
   ],
   "source": [
    "cust_prod_tran[cust_prod_tran[\"price\"] <= 0]"
   ]
  },
  {
   "cell_type": "markdown",
   "id": "686b331b",
   "metadata": {
    "canvas": {
     "comments": [],
     "componentType": "CodeCell",
     "copiedOriginId": null,
     "diskcache": false,
     "headerColor": "none",
     "id": "37d96802-3a4e-48d5-be9f-68119be787cf",
     "isComponent": false,
     "name": "",
     "parents": []
    }
   },
   "source": [
    "### Gender"
   ]
  },
  {
   "cell_type": "code",
   "execution_count": 32,
   "id": "94201663",
   "metadata": {
    "canvas": {
     "comments": [],
     "componentType": "CodeCell",
     "copiedOriginId": null,
     "diskcache": false,
     "headerColor": "none",
     "id": "b3fb492a-1f74-42c8-9362-ef8eea50975c",
     "isComponent": false,
     "name": "",
     "parents": []
    }
   },
   "outputs": [
    {
     "data": {
      "text/plain": [
       "array(['f', 'm'], dtype=object)"
      ]
     },
     "execution_count": 32,
     "metadata": {},
     "output_type": "execute_result"
    }
   ],
   "source": [
    "cust_prod_tran[\"sex\"].unique()"
   ]
  },
  {
   "cell_type": "markdown",
   "id": "d78400aa",
   "metadata": {
    "canvas": {
     "comments": [],
     "componentType": "CodeCell",
     "copiedOriginId": null,
     "diskcache": false,
     "headerColor": "none",
     "id": "d5972474-1089-47e1-aaa0-ff3ef015d7f1",
     "isComponent": false,
     "name": "",
     "parents": []
    }
   },
   "source": [
    "### Date"
   ]
  },
  {
   "cell_type": "code",
   "execution_count": 33,
   "id": "aeb7caed",
   "metadata": {
    "canvas": {
     "comments": [],
     "componentType": "CodeCell",
     "copiedOriginId": null,
     "diskcache": false,
     "headerColor": "none",
     "id": "61786f5e-b75e-413e-8538-dd2479e99ecc",
     "isComponent": false,
     "name": "",
     "parents": []
    }
   },
   "outputs": [
    {
     "name": "stdout",
     "output_type": "stream",
     "text": [
      "\u001b[1m\u001b[31m\n",
      "Les transactions vont du 2021-03-01 au 2023-02-28\n"
     ]
    }
   ],
   "source": [
    "print(bold + red + f\"\\nLes transactions vont du {str(cust_prod_tran['date'].min())[:10]} au {str(cust_prod_tran['date'].max())[:10]}\")"
   ]
  },
  {
   "cell_type": "code",
   "execution_count": 34,
   "id": "6162075a",
   "metadata": {
    "canvas": {
     "comments": [],
     "componentType": "CodeCell",
     "copiedOriginId": null,
     "diskcache": false,
     "headerColor": "none",
     "id": "558f0301-d667-453d-a36c-405afad24379",
     "isComponent": false,
     "name": "",
     "parents": []
    }
   },
   "outputs": [
    {
     "name": "stdout",
     "output_type": "stream",
     "text": [
      "\u001b[1m\u001b[31m\n",
      "On remarque qu'il manque des données pour le mois d'octobre 2021 dans la catégorie 1\u001b[0;0m\n"
     ]
    },
    {
     "data": {
      "image/png": "[encoded data removed]",
      "text/plain": [
       "<Figure size 1200x800 with 1 Axes>"
      ]
     },
     "metadata": {},
     "output_type": "display_data"
    }
   ],
   "source": [
    "plt.figure(figsize=(12,8))\n",
    "sns.histplot(data=cust_prod_tran, x='date', hue='categ', palette=[\"#f99f72\", \"#ff6e40\", \"#ff3d00\"])\n",
    "plt.xticks(rotation=45)\n",
    "plt.title('Volume des ventes par date et catégorie')\n",
    "print(bold + red + f\"\\nOn remarque qu'il manque des données pour le mois d'octobre 2021 dans la catégorie 1\" + end)\n",
    "plt.show()"
   ]
  },
  {
   "cell_type": "code",
   "execution_count": 35,
   "id": "c78bb242",
   "metadata": {
    "canvas": {
     "comments": [],
     "componentType": "CodeCell",
     "copiedOriginId": null,
     "diskcache": false,
     "headerColor": "none",
     "id": "14ea814e-f1b6-4975-bebb-76e67e704bca",
     "isComponent": false,
     "name": "",
     "parents": []
    }
   },
   "outputs": [
    {
     "name": "stdout",
     "output_type": "stream",
     "text": [
      "\u001b[1m\u001b[31m\n",
      "Les données manquantes de la catégorie 1 concernent la période du 02/10/2021 au 28/10/2021 inclus\u001b[0;0m\n"
     ]
    }
   ],
   "source": [
    "# Regardons plus précisément les dates avec les transactions manquantes du mois octobre\n",
    "cust_prod_tran_oct = cust_prod_tran[(cust_prod_tran['date']>='2021-10-02') & (cust_prod_tran['date']<='2021-10-28')]\n",
    "oct_categ_1 = cust_prod_tran_oct[cust_prod_tran_oct['categ'] == 1.0]\n",
    "oct_categ_1 = oct_categ_1.sort_values(by = 'date',ascending = True)\n",
    "print(bold + red + f\"\\nLes données manquantes de la catégorie 1 concernent la période du 02/10/2021 au 28/10/2021 inclus\" + end)"
   ]
  },
  {
   "cell_type": "markdown",
   "id": "3df75a60",
   "metadata": {
    "canvas": {
     "comments": [],
     "componentType": "CodeCell",
     "copiedOriginId": null,
     "diskcache": false,
     "headerColor": "none",
     "id": "1797557b-ca17-4005-a30b-e07fb48da9af",
     "isComponent": false,
     "name": "",
     "parents": []
    }
   },
   "source": [
    "<span style=\"color:red\">**=> Pour éviter tout biais lors de l'analyse, nous effaçons l'ensemble des données du mois d'octobre pour les 3 catégories**</span>"
   ]
  },
  {
   "cell_type": "code",
   "execution_count": 36,
   "id": "55960c51",
   "metadata": {
    "canvas": {
     "comments": [],
     "componentType": "CodeCell",
     "copiedOriginId": null,
     "diskcache": false,
     "headerColor": "none",
     "id": "4414d9b4-ae55-4832-996e-fe125c98b423",
     "isComponent": false,
     "name": "",
     "parents": []
    }
   },
   "outputs": [
    {
     "data": {
      "text/html": [
       "<div>\n",
       "<style scoped>\n",
       "    .dataframe tbody tr th:only-of-type {\n",
       "        vertical-align: middle;\n",
       "    }\n",
       "\n",
       "    .dataframe tbody tr th {\n",
       "        vertical-align: top;\n",
       "    }\n",
       "\n",
       "    .dataframe thead th {\n",
       "        text-align: right;\n",
       "    }\n",
       "</style>\n",
       "<table border=\"1\" class=\"dataframe\">\n",
       "  <thead>\n",
       "    <tr style=\"text-align: right;\">\n",
       "      <th></th>\n",
       "      <th>id_prod</th>\n",
       "      <th>price</th>\n",
       "      <th>categ</th>\n",
       "      <th>client_id</th>\n",
       "      <th>sex</th>\n",
       "      <th>birth</th>\n",
       "      <th>date</th>\n",
       "      <th>session_id</th>\n",
       "      <th>year_month</th>\n",
       "    </tr>\n",
       "  </thead>\n",
       "  <tbody>\n",
       "    <tr>\n",
       "      <th>0</th>\n",
       "      <td>0_528</td>\n",
       "      <td>0.62</td>\n",
       "      <td>0.0</td>\n",
       "      <td>c_6534</td>\n",
       "      <td>f</td>\n",
       "      <td>1999.0</td>\n",
       "      <td>2021-10-03 06:32:48.512716</td>\n",
       "      <td>s_99272</td>\n",
       "      <td>2021-10</td>\n",
       "    </tr>\n",
       "    <tr>\n",
       "      <th>1</th>\n",
       "      <td>0_528</td>\n",
       "      <td>0.62</td>\n",
       "      <td>0.0</td>\n",
       "      <td>c_7075</td>\n",
       "      <td>m</td>\n",
       "      <td>1988.0</td>\n",
       "      <td>2021-06-20 20:31:40.948364</td>\n",
       "      <td>s_51439</td>\n",
       "      <td>2021-06</td>\n",
       "    </tr>\n",
       "    <tr>\n",
       "      <th>2</th>\n",
       "      <td>0_528</td>\n",
       "      <td>0.62</td>\n",
       "      <td>0.0</td>\n",
       "      <td>c_7075</td>\n",
       "      <td>m</td>\n",
       "      <td>1988.0</td>\n",
       "      <td>2022-06-20 20:31:40.948364</td>\n",
       "      <td>s_226722</td>\n",
       "      <td>2022-06</td>\n",
       "    </tr>\n",
       "    <tr>\n",
       "      <th>3</th>\n",
       "      <td>0_528</td>\n",
       "      <td>0.62</td>\n",
       "      <td>0.0</td>\n",
       "      <td>c_5636</td>\n",
       "      <td>f</td>\n",
       "      <td>1989.0</td>\n",
       "      <td>2021-06-24 18:55:00.312636</td>\n",
       "      <td>s_53240</td>\n",
       "      <td>2021-06</td>\n",
       "    </tr>\n",
       "    <tr>\n",
       "      <th>4</th>\n",
       "      <td>0_528</td>\n",
       "      <td>0.62</td>\n",
       "      <td>0.0</td>\n",
       "      <td>c_4951</td>\n",
       "      <td>m</td>\n",
       "      <td>1984.0</td>\n",
       "      <td>2021-10-14 11:22:30.187048</td>\n",
       "      <td>s_104606</td>\n",
       "      <td>2021-10</td>\n",
       "    </tr>\n",
       "  </tbody>\n",
       "</table>\n",
       "</div>"
      ],
      "text/plain": [
       "  id_prod  price  categ client_id sex   birth                       date  \\\n",
       "0   0_528   0.62    0.0    c_6534   f  1999.0 2021-10-03 06:32:48.512716   \n",
       "1   0_528   0.62    0.0    c_7075   m  1988.0 2021-06-20 20:31:40.948364   \n",
       "2   0_528   0.62    0.0    c_7075   m  1988.0 2022-06-20 20:31:40.948364   \n",
       "3   0_528   0.62    0.0    c_5636   f  1989.0 2021-06-24 18:55:00.312636   \n",
       "4   0_528   0.62    0.0    c_4951   m  1984.0 2021-10-14 11:22:30.187048   \n",
       "\n",
       "  session_id year_month  \n",
       "0    s_99272    2021-10  \n",
       "1    s_51439    2021-06  \n",
       "2   s_226722    2022-06  \n",
       "3    s_53240    2021-06  \n",
       "4   s_104606    2021-10  "
      ]
     },
     "execution_count": 36,
     "metadata": {},
     "output_type": "execute_result"
    }
   ],
   "source": [
    "# création d'une nouvelle colonne mois_année\n",
    "#cust_prod_tran['date'] = pd.to_datetime(lapage['date'])\n",
    "cust_prod_tran['year_month'] = cust_prod_tran['date'].dt.strftime('%Y-%m')\n",
    "cust_prod_tran.head()"
   ]
  },
  {
   "cell_type": "code",
   "execution_count": 37,
   "id": "2bf28b7e",
   "metadata": {
    "canvas": {
     "comments": [],
     "componentType": "CodeCell",
     "copiedOriginId": null,
     "diskcache": false,
     "headerColor": "none",
     "id": "3d72ed93-7c74-4396-a250-a422c617936e",
     "isComponent": false,
     "name": "",
     "parents": []
    }
   },
   "outputs": [
    {
     "name": "stdout",
     "output_type": "stream",
     "text": [
      "Nombre d'observations en octobre 2021 : 21606\n"
     ]
    }
   ],
   "source": [
    "# vérification des données du mois d'octobre avant suppression\n",
    "print(\"Nombre d'observations en octobre 2021 :\", len(cust_prod_tran[(cust_prod_tran['year_month'] == '2021-10')]))"
   ]
  },
  {
   "cell_type": "code",
   "execution_count": 38,
   "id": "dd544153",
   "metadata": {
    "canvas": {
     "comments": [],
     "componentType": "CodeCell",
     "copiedOriginId": null,
     "diskcache": false,
     "headerColor": "none",
     "id": "54c2d191-3ebf-4259-900e-12960c9f67ca",
     "isComponent": false,
     "name": "",
     "parents": []
    }
   },
   "outputs": [
    {
     "name": "stdout",
     "output_type": "stream",
     "text": [
      "\u001b[1m\u001b[31m\n",
      "Après suppression des données du mois d'octobre pour toutes les catégories, 3.18 % des données ont été effacées,\n",
      "soit 21606 lignes\u001b[0;0m\n"
     ]
    },
    {
     "data": {
      "image/png": "[encoded data removed]",
      "text/plain": [
       "<Figure size 1200x800 with 1 Axes>"
      ]
     },
     "metadata": {},
     "output_type": "display_data"
    }
   ],
   "source": [
    "len_df_before = len(cust_prod_tran) # Nombre de lignes avant la suppression du mois d'octobre\n",
    "\n",
    "cust_prod_tran_oct = cust_prod_tran[(cust_prod_tran['year_month'] =='2021-10')]\n",
    "cust_prod_tran.drop(cust_prod_tran_oct.index, inplace=True) # Suppression des données du mois d'octobre\n",
    "\n",
    "# Pourcentage de données effacées après nettoyage\n",
    "print(bold + red + f\"\\nAprès suppression des données du mois d'octobre pour toutes les catégories, {round(((len_df_before - len(cust_prod_tran)) / len_df_before * 100), 2)} % des données ont été effacées,\\nsoit {len_df_before - len(cust_prod_tran)} lignes\" + end)\n",
    "\n",
    "plt.figure(figsize=(12,8))\n",
    "sns.histplot(data=cust_prod_tran, x='date', hue='categ', palette=[\"#f99f72\", \"#ff6e40\", \"#ff3d00\"])\n",
    "plt.xticks(rotation=45)\n",
    "plt.title('Volume des ventes par date et catégorie après nettoyage')\n",
    "plt.show()"
   ]
  },
  {
   "cell_type": "code",
   "execution_count": 39,
   "id": "fe48319b",
   "metadata": {
    "canvas": {
     "comments": [],
     "componentType": "CodeCell",
     "copiedOriginId": null,
     "diskcache": false,
     "headerColor": "none",
     "id": "ab1ea174-96f3-45d0-ad54-15186a438353",
     "isComponent": false,
     "name": "",
     "parents": []
    }
   },
   "outputs": [
    {
     "name": "stdout",
     "output_type": "stream",
     "text": [
      "Nombre d'observations en octobre 2021 : 0\n"
     ]
    }
   ],
   "source": [
    "# vérification des données du mois d'octobre après suppression\n",
    "print(\"Nombre d'observations en octobre 2021 :\", len(cust_prod_tran[(cust_prod_tran['year_month'] == '2021-10')]))"
   ]
  },
  {
   "cell_type": "code",
   "execution_count": 40,
   "id": "02faf413",
   "metadata": {
    "canvas": {
     "comments": [],
     "componentType": "CodeCell",
     "copiedOriginId": null,
     "diskcache": false,
     "headerColor": "none",
     "id": "6805d73a-c451-4bb9-8155-5e65249f6b85",
     "isComponent": false,
     "name": "",
     "parents": []
    }
   },
   "outputs": [
    {
     "name": "stdout",
     "output_type": "stream",
     "text": [
      "(657726, 9)\n"
     ]
    }
   ],
   "source": [
    "# affichage du nombre de lignes et de colonnes\n",
    "print(cust_prod_tran.shape)"
   ]
  },
  {
   "cell_type": "markdown",
   "id": "fddefa65",
   "metadata": {
    "canvas": {
     "comments": [],
     "componentType": "CodeCell",
     "copiedOriginId": null,
     "diskcache": false,
     "headerColor": "none",
     "id": "ab2e450e-3f2f-4ee0-b279-6e37c56171cc",
     "isComponent": false,
     "name": "",
     "parents": []
    }
   },
   "source": [
    "<span style=\"color:red\">**=> Après nettoyage et jointure des 3 tables, 657 726 références sont exploitables pour l'analyse**</span>"
   ]
  },
  {
   "cell_type": "markdown",
   "id": "13acf00d",
   "metadata": {
    "canvas": {
     "comments": [],
     "componentType": "CodeCell",
     "copiedOriginId": null,
     "diskcache": false,
     "headerColor": "none",
     "id": "211c8eee-cdf0-4be6-a87f-66fe4a856ab0",
     "isComponent": false,
     "name": "",
     "parents": []
    }
   },
   "source": [
    "# **Conclusion** sur les fichiers à l'attention des stakeholders"
   ]
  },
  {
   "cell_type": "markdown",
   "id": "0a7c5c64",
   "metadata": {
    "canvas": {
     "comments": [],
     "componentType": "CodeCell",
     "copiedOriginId": null,
     "diskcache": false,
     "headerColor": "none",
     "id": "3c7f1e42-4ed1-44ee-ab33-2c533420bff8",
     "isComponent": false,
     "name": "",
     "parents": []
    }
   },
   "source": [
    "## ***Résumé des tâches effectuées***"
   ]
  },
  {
   "cell_type": "markdown",
   "id": "523883f6",
   "metadata": {
    "canvas": {
     "comments": [],
     "componentType": "CodeCell",
     "copiedOriginId": null,
     "diskcache": false,
     "headerColor": "none",
     "id": "2697f7d0-4f97-41c6-accb-a6fcee7a55d7",
     "isComponent": false,
     "name": "",
     "parents": []
    }
   },
   "source": [
    "+ **CUSTOMERS** => suppression de 2 identifiants clients test : 'ct_0' et 'ct_1'\n",
    "\n",
    "\n",
    "+ **PRODUCTS** => \n",
    "\n",
    "        1. suppression d'1 identifiant produit test : 'T_0' \n",
    "        2. référencement du produit '0_2245' : catégorie (0) et prix (10.32 €)\n",
    "            \n",
    "            \n",
    "+ **TRANSACTIONS** => \n",
    "        \n",
    "        1. suppression de 200 références test\n",
    "        2. changement du format de la colonne \"date\" en format datetime\n",
    "        \n",
    "+ **CUST_PROD_TRAN** => suppression des données du mois d'octobre 2021 car données manquantes pour la catégorie 1"
   ]
  },
  {
   "cell_type": "markdown",
   "id": "c07173e2",
   "metadata": {
    "canvas": {
     "comments": [],
     "componentType": "CodeCell",
     "copiedOriginId": null,
     "diskcache": false,
     "headerColor": "none",
     "id": "85cedfd2-5fef-4977-9187-1e786eaebc3a",
     "isComponent": false,
     "name": "",
     "parents": []
    }
   },
   "source": [
    "## ***Données de départ***"
   ]
  },
  {
   "cell_type": "code",
   "execution_count": 41,
   "id": "7a6c40e7",
   "metadata": {
    "canvas": {
     "comments": [],
     "componentType": "CodeCell",
     "copiedOriginId": null,
     "diskcache": false,
     "headerColor": "none",
     "id": "eb4fd376-ede2-4412-9fda-c9b2fdd13c48",
     "isComponent": false,
     "name": "",
     "parents": []
    }
   },
   "outputs": [
    {
     "name": "stdout",
     "output_type": "stream",
     "text": [
      " Nombres de références produits dans la table CUSTOMERS : 8621\n",
      " Nombres de références produits dans la table PRODUCTS : 3286\n",
      " Nombres de références produits dans la table TRANSACTIONS : 679332\n"
     ]
    }
   ],
   "source": [
    "print(f\" Nombres de références produits dans la table CUSTOMERS : {len(customers)}\")\n",
    "print(f\" Nombres de références produits dans la table PRODUCTS : {len(products)}\")\n",
    "print(f\" Nombres de références produits dans la table TRANSACTIONS : {len(transactions)}\")"
   ]
  },
  {
   "cell_type": "markdown",
   "id": "4dcdcbf1",
   "metadata": {
    "canvas": {
     "comments": [],
     "componentType": "CodeCell",
     "copiedOriginId": null,
     "diskcache": false,
     "headerColor": "none",
     "id": "8667aaf4-1067-476e-9b10-836fe00bd9b3",
     "isComponent": false,
     "name": "",
     "parents": []
    }
   },
   "source": [
    "Les références manquantes (id_prod '0_2245') ont été complétées, cependant il serait conseillé de vérifier le prix réel du produit '0_2245', car celui-ci étant absent, il a été complété par la médiane des prix de la catégorie 0"
   ]
  },
  {
   "cell_type": "markdown",
   "id": "18c25fca",
   "metadata": {
    "canvas": {
     "comments": [],
     "componentType": "CodeCell",
     "copiedOriginId": null,
     "diskcache": false,
     "headerColor": "none",
     "id": "52dfe891-8442-46c6-be5d-4d49bca17595",
     "isComponent": false,
     "name": "",
     "parents": []
    }
   },
   "source": [
    "# Exportation de la jointure des trois tables vers un fichier CSV"
   ]
  },
  {
   "cell_type": "code",
   "execution_count": 42,
   "id": "2ded252e",
   "metadata": {
    "canvas": {
     "comments": [],
     "componentType": "CodeCell",
     "copiedOriginId": null,
     "diskcache": false,
     "headerColor": "none",
     "id": "b4bc52da-4463-4eff-aae9-9ea228c6a711",
     "isComponent": false,
     "name": "",
     "parents": []
    }
   },
   "outputs": [],
   "source": [
    "cust_prod_tran.to_csv('src/cust_prod_tran.csv', index=False)"
   ]
  }
 ],
 "metadata": {
  "canvas": {
   "colorPalette": [
    "inherit",
    "inherit",
    "inherit",
    "inherit",
    "inherit",
    "inherit",
    "inherit",
    "inherit",
    "inherit",
    "inherit"
   ],
   "parameters": [],
   "version": "1.0"
  },
  "kernelspec": {
   "display_name": "Python 3 (ipykernel)",
   "language": "python",
   "name": "python3"
  },
  "language_info": {
   "codemirror_mode": {
    "name": "ipython",
    "version": 3
   },
   "file_extension": ".py",
   "mimetype": "text/x-python",
   "name": "python",
   "nbconvert_exporter": "python",
   "pygments_lexer": "ipython3",
   "version": "3.9.13"
  },
  "toc": {
   "base_numbering": 1,
   "nav_menu": {},
   "number_sections": true,
   "sideBar": true,
   "skip_h1_title": false,
   "title_cell": "Table of Contents",
   "title_sidebar": "Contents",
   "toc_cell": false,
   "toc_position": {
    "height": "calc(100% - 180px)",
    "left": "10px",
    "top": "150px",
    "width": "436.59375px"
   },
   "toc_section_display": true,
   "toc_window_display": true
  },
  "varInspector": {
   "cols": {
    "lenName": 16,
    "lenType": 16,
    "lenVar": 40
   },
   "kernels_config": {
    "python": {
     "delete_cmd_postfix": "",
     "delete_cmd_prefix": "del ",
     "library": "var_list.py",
     "varRefreshCmd": "print(var_dic_list())"
    },
    "r": {
     "delete_cmd_postfix": ") ",
     "delete_cmd_prefix": "rm(",
     "library": "var_list.r",
     "varRefreshCmd": "cat(var_dic_list()) "
    }
   },
   "types_to_exclude": [
    "module",
    "function",
    "builtin_function_or_method",
    "instance",
    "_Feature"
   ],
   "window_display": false
  }
 },
 "nbformat": 4,
 "nbformat_minor": 5
}
